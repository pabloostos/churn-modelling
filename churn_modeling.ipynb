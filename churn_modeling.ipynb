{
 "cells": [
  {
   "cell_type": "markdown",
   "metadata": {},
   "source": [
    "__________________________________________________________________________________________________________________________________________________\n",
    "# **ASSIGNMENT 02 - CLASSIFICATION EXERCISE**\n",
    "__________________________________________________________________________________________________________________________________________________\n",
    "- Due Date: November 15th 2022\n",
    "- Course: Data Analytics for Decision Making\n",
    "- Master: MCSBT\n",
    "- Professor: Jesús García San Luis"
   ]
  },
  {
   "cell_type": "markdown",
   "metadata": {},
   "source": [
    "## **INTRODUCTION**\n",
    "________________________________________________________________________________________________________________________________________________\n",
    "A great number of the tasks that are carried out as part of operation and business processes focus on the organisation and classification of data to facilitate its management or automazation. The goal of this assignment is the prediction of whether a customer will leave a company or not, we will do this through classification techniques adter preparing the data, like we did in the first assignment. \n",
    "\n",
    "Additionaly, in this assignment we will build a prediction model that will perform a classification of the customers of a company, whther they will leave of not. "
   ]
  },
  {
   "cell_type": "markdown",
   "metadata": {},
   "source": [
    "__________________________________________________________________________________________________________________________________________________\n",
    "### **FIRST STEPS** -> importing libraries we will be using and loading the data set"
   ]
  },
  {
   "cell_type": "code",
   "execution_count": 5,
   "metadata": {},
   "outputs": [],
   "source": [
    "import pandas as pd\n",
    "import numpy as np\n",
    "import seaborn as sns\n",
    "import matplotlib.pyplot as plt\n",
    "\n",
    "from sklearn.utils import resample\n",
    "from sklearn.linear_model import LogisticRegression\n",
    "from sklearn.svm import SVC\n",
    "from sklearn.ensemble import GradientBoostingClassifier\n",
    "\n",
    "from sklearn.model_selection import GridSearchCV\n",
    "\n",
    "from sklearn.metrics import accuracy_score\n",
    "from sklearn.metrics import roc_auc_score\n",
    "\n",
    "from sklearn.model_selection import cross_val_score\n",
    "from sklearn import metrics"
   ]
  },
  {
   "cell_type": "code",
   "execution_count": 6,
   "metadata": {},
   "outputs": [],
   "source": [
    "# Read dataset\n",
    "d = pd.read_csv('churn_modeling.csv')"
   ]
  },
  {
   "cell_type": "markdown",
   "metadata": {},
   "source": [
    "__________________________________________________________________________________________________________________________________________________\n",
    "## **DATA ANALYSIS**\n",
    "In this section of the assignment we will go through the dataframe, analysing the most important features."
   ]
  },
  {
   "cell_type": "code",
   "execution_count": 7,
   "metadata": {},
   "outputs": [
    {
     "data": {
      "text/html": [
       "<div>\n",
       "<style scoped>\n",
       "    .dataframe tbody tr th:only-of-type {\n",
       "        vertical-align: middle;\n",
       "    }\n",
       "\n",
       "    .dataframe tbody tr th {\n",
       "        vertical-align: top;\n",
       "    }\n",
       "\n",
       "    .dataframe thead th {\n",
       "        text-align: right;\n",
       "    }\n",
       "</style>\n",
       "<table border=\"1\" class=\"dataframe\">\n",
       "  <thead>\n",
       "    <tr style=\"text-align: right;\">\n",
       "      <th></th>\n",
       "      <th>RowNumber</th>\n",
       "      <th>CustomerId</th>\n",
       "      <th>Surname</th>\n",
       "      <th>CreditScore</th>\n",
       "      <th>Geography</th>\n",
       "      <th>Gender</th>\n",
       "      <th>Age</th>\n",
       "      <th>Tenure</th>\n",
       "      <th>Balance</th>\n",
       "      <th>NumOfProducts</th>\n",
       "      <th>HasCrCard</th>\n",
       "      <th>IsActiveMember</th>\n",
       "      <th>EstimatedSalary</th>\n",
       "      <th>Exited</th>\n",
       "    </tr>\n",
       "  </thead>\n",
       "  <tbody>\n",
       "    <tr>\n",
       "      <th>0</th>\n",
       "      <td>1</td>\n",
       "      <td>15634602</td>\n",
       "      <td>Hargrave</td>\n",
       "      <td>619</td>\n",
       "      <td>France</td>\n",
       "      <td>Female</td>\n",
       "      <td>42</td>\n",
       "      <td>2</td>\n",
       "      <td>0.00</td>\n",
       "      <td>1</td>\n",
       "      <td>1</td>\n",
       "      <td>1</td>\n",
       "      <td>101348.88</td>\n",
       "      <td>1</td>\n",
       "    </tr>\n",
       "    <tr>\n",
       "      <th>1</th>\n",
       "      <td>2</td>\n",
       "      <td>15647311</td>\n",
       "      <td>Hill</td>\n",
       "      <td>608</td>\n",
       "      <td>Spain</td>\n",
       "      <td>Female</td>\n",
       "      <td>41</td>\n",
       "      <td>1</td>\n",
       "      <td>83807.86</td>\n",
       "      <td>1</td>\n",
       "      <td>0</td>\n",
       "      <td>1</td>\n",
       "      <td>112542.58</td>\n",
       "      <td>0</td>\n",
       "    </tr>\n",
       "    <tr>\n",
       "      <th>2</th>\n",
       "      <td>3</td>\n",
       "      <td>15619304</td>\n",
       "      <td>Onio</td>\n",
       "      <td>502</td>\n",
       "      <td>France</td>\n",
       "      <td>Female</td>\n",
       "      <td>42</td>\n",
       "      <td>8</td>\n",
       "      <td>159660.80</td>\n",
       "      <td>3</td>\n",
       "      <td>1</td>\n",
       "      <td>0</td>\n",
       "      <td>113931.57</td>\n",
       "      <td>1</td>\n",
       "    </tr>\n",
       "    <tr>\n",
       "      <th>3</th>\n",
       "      <td>4</td>\n",
       "      <td>15701354</td>\n",
       "      <td>Boni</td>\n",
       "      <td>699</td>\n",
       "      <td>France</td>\n",
       "      <td>Female</td>\n",
       "      <td>39</td>\n",
       "      <td>1</td>\n",
       "      <td>0.00</td>\n",
       "      <td>2</td>\n",
       "      <td>0</td>\n",
       "      <td>0</td>\n",
       "      <td>93826.63</td>\n",
       "      <td>0</td>\n",
       "    </tr>\n",
       "    <tr>\n",
       "      <th>4</th>\n",
       "      <td>5</td>\n",
       "      <td>15737888</td>\n",
       "      <td>Mitchell</td>\n",
       "      <td>850</td>\n",
       "      <td>Spain</td>\n",
       "      <td>Female</td>\n",
       "      <td>43</td>\n",
       "      <td>2</td>\n",
       "      <td>125510.82</td>\n",
       "      <td>1</td>\n",
       "      <td>1</td>\n",
       "      <td>1</td>\n",
       "      <td>79084.10</td>\n",
       "      <td>0</td>\n",
       "    </tr>\n",
       "    <tr>\n",
       "      <th>...</th>\n",
       "      <td>...</td>\n",
       "      <td>...</td>\n",
       "      <td>...</td>\n",
       "      <td>...</td>\n",
       "      <td>...</td>\n",
       "      <td>...</td>\n",
       "      <td>...</td>\n",
       "      <td>...</td>\n",
       "      <td>...</td>\n",
       "      <td>...</td>\n",
       "      <td>...</td>\n",
       "      <td>...</td>\n",
       "      <td>...</td>\n",
       "      <td>...</td>\n",
       "    </tr>\n",
       "    <tr>\n",
       "      <th>9995</th>\n",
       "      <td>9996</td>\n",
       "      <td>15606229</td>\n",
       "      <td>Obijiaku</td>\n",
       "      <td>771</td>\n",
       "      <td>France</td>\n",
       "      <td>Male</td>\n",
       "      <td>39</td>\n",
       "      <td>5</td>\n",
       "      <td>0.00</td>\n",
       "      <td>2</td>\n",
       "      <td>1</td>\n",
       "      <td>0</td>\n",
       "      <td>96270.64</td>\n",
       "      <td>0</td>\n",
       "    </tr>\n",
       "    <tr>\n",
       "      <th>9996</th>\n",
       "      <td>9997</td>\n",
       "      <td>15569892</td>\n",
       "      <td>Johnstone</td>\n",
       "      <td>516</td>\n",
       "      <td>France</td>\n",
       "      <td>Male</td>\n",
       "      <td>35</td>\n",
       "      <td>10</td>\n",
       "      <td>57369.61</td>\n",
       "      <td>1</td>\n",
       "      <td>1</td>\n",
       "      <td>1</td>\n",
       "      <td>101699.77</td>\n",
       "      <td>0</td>\n",
       "    </tr>\n",
       "    <tr>\n",
       "      <th>9997</th>\n",
       "      <td>9998</td>\n",
       "      <td>15584532</td>\n",
       "      <td>Liu</td>\n",
       "      <td>709</td>\n",
       "      <td>France</td>\n",
       "      <td>Female</td>\n",
       "      <td>36</td>\n",
       "      <td>7</td>\n",
       "      <td>0.00</td>\n",
       "      <td>1</td>\n",
       "      <td>0</td>\n",
       "      <td>1</td>\n",
       "      <td>42085.58</td>\n",
       "      <td>1</td>\n",
       "    </tr>\n",
       "    <tr>\n",
       "      <th>9998</th>\n",
       "      <td>9999</td>\n",
       "      <td>15682355</td>\n",
       "      <td>Sabbatini</td>\n",
       "      <td>772</td>\n",
       "      <td>Germany</td>\n",
       "      <td>Male</td>\n",
       "      <td>42</td>\n",
       "      <td>3</td>\n",
       "      <td>75075.31</td>\n",
       "      <td>2</td>\n",
       "      <td>1</td>\n",
       "      <td>0</td>\n",
       "      <td>92888.52</td>\n",
       "      <td>1</td>\n",
       "    </tr>\n",
       "    <tr>\n",
       "      <th>9999</th>\n",
       "      <td>10000</td>\n",
       "      <td>15628319</td>\n",
       "      <td>Walker</td>\n",
       "      <td>792</td>\n",
       "      <td>France</td>\n",
       "      <td>Female</td>\n",
       "      <td>28</td>\n",
       "      <td>4</td>\n",
       "      <td>130142.79</td>\n",
       "      <td>1</td>\n",
       "      <td>1</td>\n",
       "      <td>0</td>\n",
       "      <td>38190.78</td>\n",
       "      <td>0</td>\n",
       "    </tr>\n",
       "  </tbody>\n",
       "</table>\n",
       "<p>10000 rows × 14 columns</p>\n",
       "</div>"
      ],
      "text/plain": [
       "      RowNumber  CustomerId    Surname  CreditScore Geography  Gender  Age  \\\n",
       "0             1    15634602   Hargrave          619    France  Female   42   \n",
       "1             2    15647311       Hill          608     Spain  Female   41   \n",
       "2             3    15619304       Onio          502    France  Female   42   \n",
       "3             4    15701354       Boni          699    France  Female   39   \n",
       "4             5    15737888   Mitchell          850     Spain  Female   43   \n",
       "...         ...         ...        ...          ...       ...     ...  ...   \n",
       "9995       9996    15606229   Obijiaku          771    France    Male   39   \n",
       "9996       9997    15569892  Johnstone          516    France    Male   35   \n",
       "9997       9998    15584532        Liu          709    France  Female   36   \n",
       "9998       9999    15682355  Sabbatini          772   Germany    Male   42   \n",
       "9999      10000    15628319     Walker          792    France  Female   28   \n",
       "\n",
       "      Tenure    Balance  NumOfProducts  HasCrCard  IsActiveMember  \\\n",
       "0          2       0.00              1          1               1   \n",
       "1          1   83807.86              1          0               1   \n",
       "2          8  159660.80              3          1               0   \n",
       "3          1       0.00              2          0               0   \n",
       "4          2  125510.82              1          1               1   \n",
       "...      ...        ...            ...        ...             ...   \n",
       "9995       5       0.00              2          1               0   \n",
       "9996      10   57369.61              1          1               1   \n",
       "9997       7       0.00              1          0               1   \n",
       "9998       3   75075.31              2          1               0   \n",
       "9999       4  130142.79              1          1               0   \n",
       "\n",
       "      EstimatedSalary  Exited  \n",
       "0           101348.88       1  \n",
       "1           112542.58       0  \n",
       "2           113931.57       1  \n",
       "3            93826.63       0  \n",
       "4            79084.10       0  \n",
       "...               ...     ...  \n",
       "9995         96270.64       0  \n",
       "9996        101699.77       0  \n",
       "9997         42085.58       1  \n",
       "9998         92888.52       1  \n",
       "9999         38190.78       0  \n",
       "\n",
       "[10000 rows x 14 columns]"
      ]
     },
     "execution_count": 7,
     "metadata": {},
     "output_type": "execute_result"
    }
   ],
   "source": [
    "# Printing the whole dataset to see its shape, attributes, features and columns.\n",
    "d"
   ]
  },
  {
   "cell_type": "code",
   "execution_count": 8,
   "metadata": {},
   "outputs": [
    {
     "data": {
      "text/html": [
       "<div>\n",
       "<style scoped>\n",
       "    .dataframe tbody tr th:only-of-type {\n",
       "        vertical-align: middle;\n",
       "    }\n",
       "\n",
       "    .dataframe tbody tr th {\n",
       "        vertical-align: top;\n",
       "    }\n",
       "\n",
       "    .dataframe thead th {\n",
       "        text-align: right;\n",
       "    }\n",
       "</style>\n",
       "<table border=\"1\" class=\"dataframe\">\n",
       "  <thead>\n",
       "    <tr style=\"text-align: right;\">\n",
       "      <th></th>\n",
       "      <th>count</th>\n",
       "      <th>mean</th>\n",
       "      <th>std</th>\n",
       "      <th>min</th>\n",
       "      <th>25%</th>\n",
       "      <th>50%</th>\n",
       "      <th>75%</th>\n",
       "      <th>max</th>\n",
       "    </tr>\n",
       "  </thead>\n",
       "  <tbody>\n",
       "    <tr>\n",
       "      <th>RowNumber</th>\n",
       "      <td>10000.0</td>\n",
       "      <td>5.000500e+03</td>\n",
       "      <td>2886.895680</td>\n",
       "      <td>1.00</td>\n",
       "      <td>2500.75</td>\n",
       "      <td>5.000500e+03</td>\n",
       "      <td>7.500250e+03</td>\n",
       "      <td>10000.00</td>\n",
       "    </tr>\n",
       "    <tr>\n",
       "      <th>CustomerId</th>\n",
       "      <td>10000.0</td>\n",
       "      <td>1.569094e+07</td>\n",
       "      <td>71936.186123</td>\n",
       "      <td>15565701.00</td>\n",
       "      <td>15628528.25</td>\n",
       "      <td>1.569074e+07</td>\n",
       "      <td>1.575323e+07</td>\n",
       "      <td>15815690.00</td>\n",
       "    </tr>\n",
       "    <tr>\n",
       "      <th>CreditScore</th>\n",
       "      <td>10000.0</td>\n",
       "      <td>6.505288e+02</td>\n",
       "      <td>96.653299</td>\n",
       "      <td>350.00</td>\n",
       "      <td>584.00</td>\n",
       "      <td>6.520000e+02</td>\n",
       "      <td>7.180000e+02</td>\n",
       "      <td>850.00</td>\n",
       "    </tr>\n",
       "    <tr>\n",
       "      <th>Age</th>\n",
       "      <td>10000.0</td>\n",
       "      <td>3.892180e+01</td>\n",
       "      <td>10.487806</td>\n",
       "      <td>18.00</td>\n",
       "      <td>32.00</td>\n",
       "      <td>3.700000e+01</td>\n",
       "      <td>4.400000e+01</td>\n",
       "      <td>92.00</td>\n",
       "    </tr>\n",
       "    <tr>\n",
       "      <th>Tenure</th>\n",
       "      <td>10000.0</td>\n",
       "      <td>5.012800e+00</td>\n",
       "      <td>2.892174</td>\n",
       "      <td>0.00</td>\n",
       "      <td>3.00</td>\n",
       "      <td>5.000000e+00</td>\n",
       "      <td>7.000000e+00</td>\n",
       "      <td>10.00</td>\n",
       "    </tr>\n",
       "    <tr>\n",
       "      <th>Balance</th>\n",
       "      <td>10000.0</td>\n",
       "      <td>7.648589e+04</td>\n",
       "      <td>62397.405202</td>\n",
       "      <td>0.00</td>\n",
       "      <td>0.00</td>\n",
       "      <td>9.719854e+04</td>\n",
       "      <td>1.276442e+05</td>\n",
       "      <td>250898.09</td>\n",
       "    </tr>\n",
       "    <tr>\n",
       "      <th>NumOfProducts</th>\n",
       "      <td>10000.0</td>\n",
       "      <td>1.530200e+00</td>\n",
       "      <td>0.581654</td>\n",
       "      <td>1.00</td>\n",
       "      <td>1.00</td>\n",
       "      <td>1.000000e+00</td>\n",
       "      <td>2.000000e+00</td>\n",
       "      <td>4.00</td>\n",
       "    </tr>\n",
       "    <tr>\n",
       "      <th>HasCrCard</th>\n",
       "      <td>10000.0</td>\n",
       "      <td>7.055000e-01</td>\n",
       "      <td>0.455840</td>\n",
       "      <td>0.00</td>\n",
       "      <td>0.00</td>\n",
       "      <td>1.000000e+00</td>\n",
       "      <td>1.000000e+00</td>\n",
       "      <td>1.00</td>\n",
       "    </tr>\n",
       "    <tr>\n",
       "      <th>IsActiveMember</th>\n",
       "      <td>10000.0</td>\n",
       "      <td>5.151000e-01</td>\n",
       "      <td>0.499797</td>\n",
       "      <td>0.00</td>\n",
       "      <td>0.00</td>\n",
       "      <td>1.000000e+00</td>\n",
       "      <td>1.000000e+00</td>\n",
       "      <td>1.00</td>\n",
       "    </tr>\n",
       "    <tr>\n",
       "      <th>EstimatedSalary</th>\n",
       "      <td>10000.0</td>\n",
       "      <td>1.000902e+05</td>\n",
       "      <td>57510.492818</td>\n",
       "      <td>11.58</td>\n",
       "      <td>51002.11</td>\n",
       "      <td>1.001939e+05</td>\n",
       "      <td>1.493882e+05</td>\n",
       "      <td>199992.48</td>\n",
       "    </tr>\n",
       "    <tr>\n",
       "      <th>Exited</th>\n",
       "      <td>10000.0</td>\n",
       "      <td>2.037000e-01</td>\n",
       "      <td>0.402769</td>\n",
       "      <td>0.00</td>\n",
       "      <td>0.00</td>\n",
       "      <td>0.000000e+00</td>\n",
       "      <td>0.000000e+00</td>\n",
       "      <td>1.00</td>\n",
       "    </tr>\n",
       "  </tbody>\n",
       "</table>\n",
       "</div>"
      ],
      "text/plain": [
       "                   count          mean           std          min  \\\n",
       "RowNumber        10000.0  5.000500e+03   2886.895680         1.00   \n",
       "CustomerId       10000.0  1.569094e+07  71936.186123  15565701.00   \n",
       "CreditScore      10000.0  6.505288e+02     96.653299       350.00   \n",
       "Age              10000.0  3.892180e+01     10.487806        18.00   \n",
       "Tenure           10000.0  5.012800e+00      2.892174         0.00   \n",
       "Balance          10000.0  7.648589e+04  62397.405202         0.00   \n",
       "NumOfProducts    10000.0  1.530200e+00      0.581654         1.00   \n",
       "HasCrCard        10000.0  7.055000e-01      0.455840         0.00   \n",
       "IsActiveMember   10000.0  5.151000e-01      0.499797         0.00   \n",
       "EstimatedSalary  10000.0  1.000902e+05  57510.492818        11.58   \n",
       "Exited           10000.0  2.037000e-01      0.402769         0.00   \n",
       "\n",
       "                         25%           50%           75%          max  \n",
       "RowNumber            2500.75  5.000500e+03  7.500250e+03     10000.00  \n",
       "CustomerId       15628528.25  1.569074e+07  1.575323e+07  15815690.00  \n",
       "CreditScore           584.00  6.520000e+02  7.180000e+02       850.00  \n",
       "Age                    32.00  3.700000e+01  4.400000e+01        92.00  \n",
       "Tenure                  3.00  5.000000e+00  7.000000e+00        10.00  \n",
       "Balance                 0.00  9.719854e+04  1.276442e+05    250898.09  \n",
       "NumOfProducts           1.00  1.000000e+00  2.000000e+00         4.00  \n",
       "HasCrCard               0.00  1.000000e+00  1.000000e+00         1.00  \n",
       "IsActiveMember          0.00  1.000000e+00  1.000000e+00         1.00  \n",
       "EstimatedSalary     51002.11  1.001939e+05  1.493882e+05    199992.48  \n",
       "Exited                  0.00  0.000000e+00  0.000000e+00         1.00  "
      ]
     },
     "execution_count": 8,
     "metadata": {},
     "output_type": "execute_result"
    }
   ],
   "source": [
    "d.describe().T"
   ]
  },
  {
   "cell_type": "markdown",
   "metadata": {},
   "source": [
    "Some things to highlight from this table are the customer ages go from 18 to 92 years old with the median around 40. Another interesting thing to look at is the TENURE (permanencia) with a mean of around 5 years and most of customer's tenure are above 3 years, showing high level of loyalty. \n",
    "Customers are pretty wealthy we could say, being the estimated salary above 51000 for the majority. \n",
    "Probably the most important feature to look at is out target variable: **EXITED**. This feature allows us to calculate the churn rate of the customers.\n",
    "\n",
    "Now, we will look more in detail at the different feature, especially those that I believe to be more relevant."
   ]
  },
  {
   "cell_type": "code",
   "execution_count": 9,
   "metadata": {},
   "outputs": [],
   "source": [
    "d_churned = d[d['Exited'] == 1]\n",
    "d_retained = d[d['Exited'] == 0]"
   ]
  },
  {
   "cell_type": "markdown",
   "metadata": {},
   "source": [
    "### **1. Age**"
   ]
  },
  {
   "cell_type": "code",
   "execution_count": 10,
   "metadata": {},
   "outputs": [
    {
     "data": {
      "text/plain": [
       "<AxesSubplot:xlabel='Age', ylabel='count'>"
      ]
     },
     "execution_count": 10,
     "metadata": {},
     "output_type": "execute_result"
    },
    {
     "data": {
      "image/png": "[encoded data removed]",
      "text/plain": [
       "<Figure size 432x288 with 1 Axes>"
      ]
     },
     "metadata": {
      "needs_background": "light"
     },
     "output_type": "display_data"
    }
   ],
   "source": [
    "sns.countplot(x='Age', hue = 'Exited', data = d)"
   ]
  },
  {
   "cell_type": "markdown",
   "metadata": {},
   "source": [
    "Looking closely at the age column, we have to highlight that the older the customer, the more likely he will be to leave the company. "
   ]
  },
  {
   "cell_type": "markdown",
   "metadata": {},
   "source": [
    "### **2. CreditScore**"
   ]
  },
  {
   "cell_type": "code",
   "execution_count": 11,
   "metadata": {},
   "outputs": [
    {
     "data": {
      "text/plain": [
       "<AxesSubplot:xlabel='CreditScore', ylabel='count'>"
      ]
     },
     "execution_count": 11,
     "metadata": {},
     "output_type": "execute_result"
    },
    {
     "data": {
      "image/png": "[encoded data removed]",
      "text/plain": [
       "<Figure size 432x288 with 1 Axes>"
      ]
     },
     "metadata": {
      "needs_background": "light"
     },
     "output_type": "display_data"
    }
   ],
   "source": [
    "sns.countplot(x='CreditScore', hue = 'Exited', data = d)"
   ]
  },
  {
   "cell_type": "markdown",
   "metadata": {},
   "source": [
    "This column does not tell us much about the likelyhood of leaving the company, the distribution of data is pretty much the same"
   ]
  },
  {
   "cell_type": "markdown",
   "metadata": {},
   "source": [
    "__________________________________________________________________________________________________________________________________________________\n",
    "## **DATA PREPARATION**\n",
    "*This part of the assignment consists on the act of cleaning and consolidating the raw data before submitting it to analysis. Carrying out the process of validating, cleaning and augmenting the raw data is the foundation to obtain precise and significant insights from them. \n",
    "In this assignment we will recall some of the data preparation techniques seen in the first assignment and session 4 of the course.* \n",
    "\n"
   ]
  },
  {
   "cell_type": "code",
   "execution_count": 12,
   "metadata": {},
   "outputs": [
    {
     "data": {
      "text/plain": [
       "(10000, 14)"
      ]
     },
     "execution_count": 12,
     "metadata": {},
     "output_type": "execute_result"
    }
   ],
   "source": [
    "# In the previous chunk of code we can already see its shape, but to see it more clearly: \n",
    "d.shape"
   ]
  },
  {
   "cell_type": "markdown",
   "metadata": {},
   "source": [
    "*From the last commands, we can see that the dataset has 10000 rows and 14 columns. Now we will see more in depth what these rows and columns contain and make a cleans so that the data can be analysed.*\n",
    "\n",
    "- First we will look inside all rows to see if there are null values, if there are any, we will impute them. Null or missing values can be described as those values that are not stored for some variables, these values can reduce the accuracy of our model and bias it, they are often represented as NaN. \n",
    "\n",
    "- Then we will look at each of the colums, analysing and understanding its features. After examining the columns one of the most usual operations is narrowing down the columns. This can be effectuated because the columns or features do not provide significant information for the model to meke a good prediction. \n",
    "\n",
    "- We will perform encodings on the categorical columns that require it. Categorical values are those that can only take a fixed, limited amount of values. We can perform different types of encoding such as replacing values or one hot encoding and see the effect they have on the accuracy. \n",
    "\n",
    "- We also have to address class imbalance. A balanced dataset is one in which the same number of input samples are used to represent each output class (or target class), in this class the \"Exited\" feature.\n",
    "\n",
    "- Lastly, Scaling (or standardising) the data is another major aspect when we are talking about predictions. The standardisation is a data preparation procedure that is executed with the aim of rescaling the columns so that the mean and standard deviation are 0 and 1 respectively. ***DISCLAIMER: I will first do a first run at the exercise without doing the standarization, after this first case I will try standardising the data and compare the results***"
   ]
  },
  {
   "cell_type": "markdown",
   "metadata": {},
   "source": [
    "### **1. SEARCHING FOR NULL VALUES**"
   ]
  },
  {
   "cell_type": "code",
   "execution_count": 13,
   "metadata": {},
   "outputs": [
    {
     "name": "stdout",
     "output_type": "stream",
     "text": [
      "<class 'pandas.core.frame.DataFrame'>\n",
      "RangeIndex: 10000 entries, 0 to 9999\n",
      "Data columns (total 14 columns):\n",
      " #   Column           Non-Null Count  Dtype  \n",
      "---  ------           --------------  -----  \n",
      " 0   RowNumber        10000 non-null  int64  \n",
      " 1   CustomerId       10000 non-null  int64  \n",
      " 2   Surname          10000 non-null  object \n",
      " 3   CreditScore      10000 non-null  int64  \n",
      " 4   Geography        10000 non-null  object \n",
      " 5   Gender           10000 non-null  object \n",
      " 6   Age              10000 non-null  int64  \n",
      " 7   Tenure           10000 non-null  int64  \n",
      " 8   Balance          10000 non-null  float64\n",
      " 9   NumOfProducts    10000 non-null  int64  \n",
      " 10  HasCrCard        10000 non-null  int64  \n",
      " 11  IsActiveMember   10000 non-null  int64  \n",
      " 12  EstimatedSalary  10000 non-null  float64\n",
      " 13  Exited           10000 non-null  int64  \n",
      "dtypes: float64(2), int64(9), object(3)\n",
      "memory usage: 1.1+ MB\n"
     ]
    }
   ],
   "source": [
    "d.info()"
   ]
  },
  {
   "cell_type": "code",
   "execution_count": 14,
   "metadata": {},
   "outputs": [
    {
     "data": {
      "text/plain": [
       "RowNumber          0\n",
       "CustomerId         0\n",
       "Surname            0\n",
       "CreditScore        0\n",
       "Geography          0\n",
       "Gender             0\n",
       "Age                0\n",
       "Tenure             0\n",
       "Balance            0\n",
       "NumOfProducts      0\n",
       "HasCrCard          0\n",
       "IsActiveMember     0\n",
       "EstimatedSalary    0\n",
       "Exited             0\n",
       "dtype: int64"
      ]
     },
     "execution_count": 14,
     "metadata": {},
     "output_type": "execute_result"
    }
   ],
   "source": [
    "# SEARCHING FOR NULL VALUES. These commands will look for the number of missing values in each column\n",
    "d.isnull().sum()"
   ]
  },
  {
   "cell_type": "markdown",
   "metadata": {},
   "source": [
    "As we can see, the dataset is free of missing values, this is an unusual case. Either way, by implementing the imputer code shown below, it would impute the missing values with the *sklearn.impute* library and clean the data from missing values. "
   ]
  },
  {
   "cell_type": "code",
   "execution_count": null,
   "metadata": {},
   "outputs": [],
   "source": [
    "from sklearn.experimental import enable_iterative_imputer\n",
    "from sklearn.impute import IterativeImputer\n",
    "\n",
    "imputer = IterativeImputer()\n",
    "imputed = imputer.fit_transform(d)\n",
    "df_imputed = pd.DataFrame(imputed, columns=d.columns)\n",
    "\n",
    "df_imputed"
   ]
  },
  {
   "cell_type": "markdown",
   "metadata": {},
   "source": [
    "### **2. NARROWING COLUMNS**\n",
    "First of all, we can look at the amount of unique values in each of the features (columns). This gives us a broad idea of how the data is distributed."
   ]
  },
  {
   "cell_type": "code",
   "execution_count": 15,
   "metadata": {},
   "outputs": [
    {
     "data": {
      "text/plain": [
       "RowNumber          10000\n",
       "CustomerId         10000\n",
       "Surname             2932\n",
       "CreditScore          460\n",
       "Geography              3\n",
       "Gender                 2\n",
       "Age                   70\n",
       "Tenure                11\n",
       "Balance             6382\n",
       "NumOfProducts          4\n",
       "HasCrCard              2\n",
       "IsActiveMember         2\n",
       "EstimatedSalary     9999\n",
       "Exited                 2\n",
       "dtype: int64"
      ]
     },
     "execution_count": 15,
     "metadata": {},
     "output_type": "execute_result"
    }
   ],
   "source": [
    "d.nunique()"
   ]
  },
  {
   "cell_type": "markdown",
   "metadata": {},
   "source": [
    "-> As we can see, the first observation we can make by looking at the results is that the first two features are specific for each of the customers. This way, we determine that we can get rid of the first two columns. Another column we can get rid of is the Surname column, as we can see there are 2932 unique values for this column, nevertheless, it is specific to each customer so we come to the conclusion that we can forget about this column even if they are repeated. \n",
    "\n",
    "**Narrowing down the data frame: columns RowNumber, CustomerID and Surname**"
   ]
  },
  {
   "cell_type": "code",
   "execution_count": 16,
   "metadata": {},
   "outputs": [
    {
     "data": {
      "text/html": [
       "<div>\n",
       "<style scoped>\n",
       "    .dataframe tbody tr th:only-of-type {\n",
       "        vertical-align: middle;\n",
       "    }\n",
       "\n",
       "    .dataframe tbody tr th {\n",
       "        vertical-align: top;\n",
       "    }\n",
       "\n",
       "    .dataframe thead th {\n",
       "        text-align: right;\n",
       "    }\n",
       "</style>\n",
       "<table border=\"1\" class=\"dataframe\">\n",
       "  <thead>\n",
       "    <tr style=\"text-align: right;\">\n",
       "      <th></th>\n",
       "      <th>CreditScore</th>\n",
       "      <th>Geography</th>\n",
       "      <th>Gender</th>\n",
       "      <th>Age</th>\n",
       "      <th>Tenure</th>\n",
       "      <th>Balance</th>\n",
       "      <th>NumOfProducts</th>\n",
       "      <th>HasCrCard</th>\n",
       "      <th>IsActiveMember</th>\n",
       "      <th>EstimatedSalary</th>\n",
       "      <th>Exited</th>\n",
       "    </tr>\n",
       "  </thead>\n",
       "  <tbody>\n",
       "    <tr>\n",
       "      <th>0</th>\n",
       "      <td>619</td>\n",
       "      <td>France</td>\n",
       "      <td>Female</td>\n",
       "      <td>42</td>\n",
       "      <td>2</td>\n",
       "      <td>0.00</td>\n",
       "      <td>1</td>\n",
       "      <td>1</td>\n",
       "      <td>1</td>\n",
       "      <td>101348.88</td>\n",
       "      <td>1</td>\n",
       "    </tr>\n",
       "    <tr>\n",
       "      <th>1</th>\n",
       "      <td>608</td>\n",
       "      <td>Spain</td>\n",
       "      <td>Female</td>\n",
       "      <td>41</td>\n",
       "      <td>1</td>\n",
       "      <td>83807.86</td>\n",
       "      <td>1</td>\n",
       "      <td>0</td>\n",
       "      <td>1</td>\n",
       "      <td>112542.58</td>\n",
       "      <td>0</td>\n",
       "    </tr>\n",
       "    <tr>\n",
       "      <th>2</th>\n",
       "      <td>502</td>\n",
       "      <td>France</td>\n",
       "      <td>Female</td>\n",
       "      <td>42</td>\n",
       "      <td>8</td>\n",
       "      <td>159660.80</td>\n",
       "      <td>3</td>\n",
       "      <td>1</td>\n",
       "      <td>0</td>\n",
       "      <td>113931.57</td>\n",
       "      <td>1</td>\n",
       "    </tr>\n",
       "    <tr>\n",
       "      <th>3</th>\n",
       "      <td>699</td>\n",
       "      <td>France</td>\n",
       "      <td>Female</td>\n",
       "      <td>39</td>\n",
       "      <td>1</td>\n",
       "      <td>0.00</td>\n",
       "      <td>2</td>\n",
       "      <td>0</td>\n",
       "      <td>0</td>\n",
       "      <td>93826.63</td>\n",
       "      <td>0</td>\n",
       "    </tr>\n",
       "    <tr>\n",
       "      <th>4</th>\n",
       "      <td>850</td>\n",
       "      <td>Spain</td>\n",
       "      <td>Female</td>\n",
       "      <td>43</td>\n",
       "      <td>2</td>\n",
       "      <td>125510.82</td>\n",
       "      <td>1</td>\n",
       "      <td>1</td>\n",
       "      <td>1</td>\n",
       "      <td>79084.10</td>\n",
       "      <td>0</td>\n",
       "    </tr>\n",
       "    <tr>\n",
       "      <th>...</th>\n",
       "      <td>...</td>\n",
       "      <td>...</td>\n",
       "      <td>...</td>\n",
       "      <td>...</td>\n",
       "      <td>...</td>\n",
       "      <td>...</td>\n",
       "      <td>...</td>\n",
       "      <td>...</td>\n",
       "      <td>...</td>\n",
       "      <td>...</td>\n",
       "      <td>...</td>\n",
       "    </tr>\n",
       "    <tr>\n",
       "      <th>9995</th>\n",
       "      <td>771</td>\n",
       "      <td>France</td>\n",
       "      <td>Male</td>\n",
       "      <td>39</td>\n",
       "      <td>5</td>\n",
       "      <td>0.00</td>\n",
       "      <td>2</td>\n",
       "      <td>1</td>\n",
       "      <td>0</td>\n",
       "      <td>96270.64</td>\n",
       "      <td>0</td>\n",
       "    </tr>\n",
       "    <tr>\n",
       "      <th>9996</th>\n",
       "      <td>516</td>\n",
       "      <td>France</td>\n",
       "      <td>Male</td>\n",
       "      <td>35</td>\n",
       "      <td>10</td>\n",
       "      <td>57369.61</td>\n",
       "      <td>1</td>\n",
       "      <td>1</td>\n",
       "      <td>1</td>\n",
       "      <td>101699.77</td>\n",
       "      <td>0</td>\n",
       "    </tr>\n",
       "    <tr>\n",
       "      <th>9997</th>\n",
       "      <td>709</td>\n",
       "      <td>France</td>\n",
       "      <td>Female</td>\n",
       "      <td>36</td>\n",
       "      <td>7</td>\n",
       "      <td>0.00</td>\n",
       "      <td>1</td>\n",
       "      <td>0</td>\n",
       "      <td>1</td>\n",
       "      <td>42085.58</td>\n",
       "      <td>1</td>\n",
       "    </tr>\n",
       "    <tr>\n",
       "      <th>9998</th>\n",
       "      <td>772</td>\n",
       "      <td>Germany</td>\n",
       "      <td>Male</td>\n",
       "      <td>42</td>\n",
       "      <td>3</td>\n",
       "      <td>75075.31</td>\n",
       "      <td>2</td>\n",
       "      <td>1</td>\n",
       "      <td>0</td>\n",
       "      <td>92888.52</td>\n",
       "      <td>1</td>\n",
       "    </tr>\n",
       "    <tr>\n",
       "      <th>9999</th>\n",
       "      <td>792</td>\n",
       "      <td>France</td>\n",
       "      <td>Female</td>\n",
       "      <td>28</td>\n",
       "      <td>4</td>\n",
       "      <td>130142.79</td>\n",
       "      <td>1</td>\n",
       "      <td>1</td>\n",
       "      <td>0</td>\n",
       "      <td>38190.78</td>\n",
       "      <td>0</td>\n",
       "    </tr>\n",
       "  </tbody>\n",
       "</table>\n",
       "<p>10000 rows × 11 columns</p>\n",
       "</div>"
      ],
      "text/plain": [
       "      CreditScore Geography  Gender  Age  Tenure    Balance  NumOfProducts  \\\n",
       "0             619    France  Female   42       2       0.00              1   \n",
       "1             608     Spain  Female   41       1   83807.86              1   \n",
       "2             502    France  Female   42       8  159660.80              3   \n",
       "3             699    France  Female   39       1       0.00              2   \n",
       "4             850     Spain  Female   43       2  125510.82              1   \n",
       "...           ...       ...     ...  ...     ...        ...            ...   \n",
       "9995          771    France    Male   39       5       0.00              2   \n",
       "9996          516    France    Male   35      10   57369.61              1   \n",
       "9997          709    France  Female   36       7       0.00              1   \n",
       "9998          772   Germany    Male   42       3   75075.31              2   \n",
       "9999          792    France  Female   28       4  130142.79              1   \n",
       "\n",
       "      HasCrCard  IsActiveMember  EstimatedSalary  Exited  \n",
       "0             1               1        101348.88       1  \n",
       "1             0               1        112542.58       0  \n",
       "2             1               0        113931.57       1  \n",
       "3             0               0         93826.63       0  \n",
       "4             1               1         79084.10       0  \n",
       "...         ...             ...              ...     ...  \n",
       "9995          1               0         96270.64       0  \n",
       "9996          1               1        101699.77       0  \n",
       "9997          0               1         42085.58       1  \n",
       "9998          1               0         92888.52       1  \n",
       "9999          1               0         38190.78       0  \n",
       "\n",
       "[10000 rows x 11 columns]"
      ]
     },
     "execution_count": 16,
     "metadata": {},
     "output_type": "execute_result"
    }
   ],
   "source": [
    "d = d.drop(columns = [\"RowNumber\", \"CustomerId\", \"Surname\"])\n",
    "d"
   ]
  },
  {
   "cell_type": "markdown",
   "metadata": {},
   "source": [
    "As we can see we end up with 11 relevant columns to analyse. "
   ]
  },
  {
   "cell_type": "markdown",
   "metadata": {},
   "source": [
    "### **3. ENCODING**\n",
    "We will perform encodings on the variables that require it, these are those features that can only take a fixed, limited amount of values. There are different ways to perform encodings, I have opted to do an arbitrary encoding of those variables that require it, nevertheless if I have time I will perform a one hot encoding and compare the results between the two encodings. \n",
    "\n",
    "Firstly we will have a look at the categorical features we find in our data frame, and thanks to the d.nunique() chunk of code we see that the columns with few unique values are: Geography, Gender, Tenure, NumOfProducts, HasCrCard, IsActiveMember and Exited, but we already know that Exited is 0 if they have exited and 1 if they are loyal. \n",
    "\n",
    "Now, from the d.info() chunk of code, we can see the data type of each feature (Dtype), and we come to the conslusion that the only columns we have to encode are Geography and Gender (the only OBJECT types we find = strings), the rest are integers so we can assume they are already \"encoded\". -> We have to encode those OBJECT types so that the learner is able to analyse the data since it can only read numerical values. \n"
   ]
  },
  {
   "cell_type": "code",
   "execution_count": 17,
   "metadata": {},
   "outputs": [
    {
     "data": {
      "text/plain": [
       "array(['France', 'Spain', 'Germany'], dtype=object)"
      ]
     },
     "execution_count": 17,
     "metadata": {},
     "output_type": "execute_result"
    }
   ],
   "source": [
    "d['Geography'].unique()"
   ]
  },
  {
   "cell_type": "code",
   "execution_count": 18,
   "metadata": {},
   "outputs": [
    {
     "data": {
      "text/plain": [
       "array(['Female', 'Male'], dtype=object)"
      ]
     },
     "execution_count": 18,
     "metadata": {},
     "output_type": "execute_result"
    }
   ],
   "source": [
    "d['Gender'].unique()"
   ]
  },
  {
   "cell_type": "markdown",
   "metadata": {},
   "source": [
    "### **3.1. Geography**"
   ]
  },
  {
   "cell_type": "code",
   "execution_count": 19,
   "metadata": {},
   "outputs": [
    {
     "data": {
      "text/plain": [
       "<AxesSubplot:xlabel='Geography', ylabel='count'>"
      ]
     },
     "execution_count": 19,
     "metadata": {},
     "output_type": "execute_result"
    },
    {
     "data": {
      "image/png": "[encoded data removed]",
      "text/plain": [
       "<Figure size 432x288 with 1 Axes>"
      ]
     },
     "metadata": {
      "needs_background": "light"
     },
     "output_type": "display_data"
    }
   ],
   "source": [
    "sns.countplot(x='Geography', data = d)"
   ]
  },
  {
   "cell_type": "markdown",
   "metadata": {},
   "source": [
    "It is important to note that customers come from 3 different countries (Fannce, Spain and Germany), with the most number of residents in France.\n",
    "\n",
    "**Now we encode the Geography column -> France = 1 ; Spain = 2 ; Germany = 3**"
   ]
  },
  {
   "cell_type": "code",
   "execution_count": 20,
   "metadata": {},
   "outputs": [
    {
     "data": {
      "text/html": [
       "<div>\n",
       "<style scoped>\n",
       "    .dataframe tbody tr th:only-of-type {\n",
       "        vertical-align: middle;\n",
       "    }\n",
       "\n",
       "    .dataframe tbody tr th {\n",
       "        vertical-align: top;\n",
       "    }\n",
       "\n",
       "    .dataframe thead th {\n",
       "        text-align: right;\n",
       "    }\n",
       "</style>\n",
       "<table border=\"1\" class=\"dataframe\">\n",
       "  <thead>\n",
       "    <tr style=\"text-align: right;\">\n",
       "      <th></th>\n",
       "      <th>CreditScore</th>\n",
       "      <th>Geography</th>\n",
       "      <th>Gender</th>\n",
       "      <th>Age</th>\n",
       "      <th>Tenure</th>\n",
       "      <th>Balance</th>\n",
       "      <th>NumOfProducts</th>\n",
       "      <th>HasCrCard</th>\n",
       "      <th>IsActiveMember</th>\n",
       "      <th>EstimatedSalary</th>\n",
       "      <th>Exited</th>\n",
       "    </tr>\n",
       "  </thead>\n",
       "  <tbody>\n",
       "    <tr>\n",
       "      <th>0</th>\n",
       "      <td>619</td>\n",
       "      <td>1</td>\n",
       "      <td>Female</td>\n",
       "      <td>42</td>\n",
       "      <td>2</td>\n",
       "      <td>0.00</td>\n",
       "      <td>1</td>\n",
       "      <td>1</td>\n",
       "      <td>1</td>\n",
       "      <td>101348.88</td>\n",
       "      <td>1</td>\n",
       "    </tr>\n",
       "    <tr>\n",
       "      <th>1</th>\n",
       "      <td>608</td>\n",
       "      <td>2</td>\n",
       "      <td>Female</td>\n",
       "      <td>41</td>\n",
       "      <td>1</td>\n",
       "      <td>83807.86</td>\n",
       "      <td>1</td>\n",
       "      <td>0</td>\n",
       "      <td>1</td>\n",
       "      <td>112542.58</td>\n",
       "      <td>0</td>\n",
       "    </tr>\n",
       "    <tr>\n",
       "      <th>2</th>\n",
       "      <td>502</td>\n",
       "      <td>1</td>\n",
       "      <td>Female</td>\n",
       "      <td>42</td>\n",
       "      <td>8</td>\n",
       "      <td>159660.80</td>\n",
       "      <td>3</td>\n",
       "      <td>1</td>\n",
       "      <td>0</td>\n",
       "      <td>113931.57</td>\n",
       "      <td>1</td>\n",
       "    </tr>\n",
       "    <tr>\n",
       "      <th>3</th>\n",
       "      <td>699</td>\n",
       "      <td>1</td>\n",
       "      <td>Female</td>\n",
       "      <td>39</td>\n",
       "      <td>1</td>\n",
       "      <td>0.00</td>\n",
       "      <td>2</td>\n",
       "      <td>0</td>\n",
       "      <td>0</td>\n",
       "      <td>93826.63</td>\n",
       "      <td>0</td>\n",
       "    </tr>\n",
       "    <tr>\n",
       "      <th>4</th>\n",
       "      <td>850</td>\n",
       "      <td>2</td>\n",
       "      <td>Female</td>\n",
       "      <td>43</td>\n",
       "      <td>2</td>\n",
       "      <td>125510.82</td>\n",
       "      <td>1</td>\n",
       "      <td>1</td>\n",
       "      <td>1</td>\n",
       "      <td>79084.10</td>\n",
       "      <td>0</td>\n",
       "    </tr>\n",
       "    <tr>\n",
       "      <th>...</th>\n",
       "      <td>...</td>\n",
       "      <td>...</td>\n",
       "      <td>...</td>\n",
       "      <td>...</td>\n",
       "      <td>...</td>\n",
       "      <td>...</td>\n",
       "      <td>...</td>\n",
       "      <td>...</td>\n",
       "      <td>...</td>\n",
       "      <td>...</td>\n",
       "      <td>...</td>\n",
       "    </tr>\n",
       "    <tr>\n",
       "      <th>9995</th>\n",
       "      <td>771</td>\n",
       "      <td>1</td>\n",
       "      <td>Male</td>\n",
       "      <td>39</td>\n",
       "      <td>5</td>\n",
       "      <td>0.00</td>\n",
       "      <td>2</td>\n",
       "      <td>1</td>\n",
       "      <td>0</td>\n",
       "      <td>96270.64</td>\n",
       "      <td>0</td>\n",
       "    </tr>\n",
       "    <tr>\n",
       "      <th>9996</th>\n",
       "      <td>516</td>\n",
       "      <td>1</td>\n",
       "      <td>Male</td>\n",
       "      <td>35</td>\n",
       "      <td>10</td>\n",
       "      <td>57369.61</td>\n",
       "      <td>1</td>\n",
       "      <td>1</td>\n",
       "      <td>1</td>\n",
       "      <td>101699.77</td>\n",
       "      <td>0</td>\n",
       "    </tr>\n",
       "    <tr>\n",
       "      <th>9997</th>\n",
       "      <td>709</td>\n",
       "      <td>1</td>\n",
       "      <td>Female</td>\n",
       "      <td>36</td>\n",
       "      <td>7</td>\n",
       "      <td>0.00</td>\n",
       "      <td>1</td>\n",
       "      <td>0</td>\n",
       "      <td>1</td>\n",
       "      <td>42085.58</td>\n",
       "      <td>1</td>\n",
       "    </tr>\n",
       "    <tr>\n",
       "      <th>9998</th>\n",
       "      <td>772</td>\n",
       "      <td>3</td>\n",
       "      <td>Male</td>\n",
       "      <td>42</td>\n",
       "      <td>3</td>\n",
       "      <td>75075.31</td>\n",
       "      <td>2</td>\n",
       "      <td>1</td>\n",
       "      <td>0</td>\n",
       "      <td>92888.52</td>\n",
       "      <td>1</td>\n",
       "    </tr>\n",
       "    <tr>\n",
       "      <th>9999</th>\n",
       "      <td>792</td>\n",
       "      <td>1</td>\n",
       "      <td>Female</td>\n",
       "      <td>28</td>\n",
       "      <td>4</td>\n",
       "      <td>130142.79</td>\n",
       "      <td>1</td>\n",
       "      <td>1</td>\n",
       "      <td>0</td>\n",
       "      <td>38190.78</td>\n",
       "      <td>0</td>\n",
       "    </tr>\n",
       "  </tbody>\n",
       "</table>\n",
       "<p>10000 rows × 11 columns</p>\n",
       "</div>"
      ],
      "text/plain": [
       "      CreditScore  Geography  Gender  Age  Tenure    Balance  NumOfProducts  \\\n",
       "0             619          1  Female   42       2       0.00              1   \n",
       "1             608          2  Female   41       1   83807.86              1   \n",
       "2             502          1  Female   42       8  159660.80              3   \n",
       "3             699          1  Female   39       1       0.00              2   \n",
       "4             850          2  Female   43       2  125510.82              1   \n",
       "...           ...        ...     ...  ...     ...        ...            ...   \n",
       "9995          771          1    Male   39       5       0.00              2   \n",
       "9996          516          1    Male   35      10   57369.61              1   \n",
       "9997          709          1  Female   36       7       0.00              1   \n",
       "9998          772          3    Male   42       3   75075.31              2   \n",
       "9999          792          1  Female   28       4  130142.79              1   \n",
       "\n",
       "      HasCrCard  IsActiveMember  EstimatedSalary  Exited  \n",
       "0             1               1        101348.88       1  \n",
       "1             0               1        112542.58       0  \n",
       "2             1               0        113931.57       1  \n",
       "3             0               0         93826.63       0  \n",
       "4             1               1         79084.10       0  \n",
       "...         ...             ...              ...     ...  \n",
       "9995          1               0         96270.64       0  \n",
       "9996          1               1        101699.77       0  \n",
       "9997          0               1         42085.58       1  \n",
       "9998          1               0         92888.52       1  \n",
       "9999          1               0         38190.78       0  \n",
       "\n",
       "[10000 rows x 11 columns]"
      ]
     },
     "execution_count": 20,
     "metadata": {},
     "output_type": "execute_result"
    }
   ],
   "source": [
    "def encode_type(x):\n",
    "    if x == 'France':\n",
    "        return 1\n",
    "    if x == 'Spain':\n",
    "        return 2\n",
    "    if x == 'Germany':\n",
    "        return 3\n",
    "\n",
    "d['Geography'] = d['Geography'].transform(encode_type)\n",
    "d"
   ]
  },
  {
   "cell_type": "markdown",
   "metadata": {},
   "source": [
    "### **3.2. Gender**"
   ]
  },
  {
   "cell_type": "code",
   "execution_count": 21,
   "metadata": {},
   "outputs": [
    {
     "data": {
      "text/plain": [
       "<AxesSubplot:xlabel='Gender', ylabel='count'>"
      ]
     },
     "execution_count": 21,
     "metadata": {},
     "output_type": "execute_result"
    },
    {
     "data": {
      "image/png": "[encoded data removed]",
      "text/plain": [
       "<Figure size 432x288 with 1 Axes>"
      ]
     },
     "metadata": {
      "needs_background": "light"
     },
     "output_type": "display_data"
    }
   ],
   "source": [
    "sns.countplot(x='Gender', data = d)"
   ]
  },
  {
   "cell_type": "markdown",
   "metadata": {},
   "source": [
    "The only thing we can highlight from this histogram is that there are more males than females. \n",
    "\n",
    "**Now we encode the Gender feature -> Male = 1 ; Female = 0"
   ]
  },
  {
   "cell_type": "code",
   "execution_count": 22,
   "metadata": {},
   "outputs": [
    {
     "data": {
      "text/html": [
       "<div>\n",
       "<style scoped>\n",
       "    .dataframe tbody tr th:only-of-type {\n",
       "        vertical-align: middle;\n",
       "    }\n",
       "\n",
       "    .dataframe tbody tr th {\n",
       "        vertical-align: top;\n",
       "    }\n",
       "\n",
       "    .dataframe thead th {\n",
       "        text-align: right;\n",
       "    }\n",
       "</style>\n",
       "<table border=\"1\" class=\"dataframe\">\n",
       "  <thead>\n",
       "    <tr style=\"text-align: right;\">\n",
       "      <th></th>\n",
       "      <th>CreditScore</th>\n",
       "      <th>Geography</th>\n",
       "      <th>Gender</th>\n",
       "      <th>Age</th>\n",
       "      <th>Tenure</th>\n",
       "      <th>Balance</th>\n",
       "      <th>NumOfProducts</th>\n",
       "      <th>HasCrCard</th>\n",
       "      <th>IsActiveMember</th>\n",
       "      <th>EstimatedSalary</th>\n",
       "      <th>Exited</th>\n",
       "    </tr>\n",
       "  </thead>\n",
       "  <tbody>\n",
       "    <tr>\n",
       "      <th>0</th>\n",
       "      <td>619</td>\n",
       "      <td>1</td>\n",
       "      <td>0</td>\n",
       "      <td>42</td>\n",
       "      <td>2</td>\n",
       "      <td>0.00</td>\n",
       "      <td>1</td>\n",
       "      <td>1</td>\n",
       "      <td>1</td>\n",
       "      <td>101348.88</td>\n",
       "      <td>1</td>\n",
       "    </tr>\n",
       "    <tr>\n",
       "      <th>1</th>\n",
       "      <td>608</td>\n",
       "      <td>2</td>\n",
       "      <td>0</td>\n",
       "      <td>41</td>\n",
       "      <td>1</td>\n",
       "      <td>83807.86</td>\n",
       "      <td>1</td>\n",
       "      <td>0</td>\n",
       "      <td>1</td>\n",
       "      <td>112542.58</td>\n",
       "      <td>0</td>\n",
       "    </tr>\n",
       "    <tr>\n",
       "      <th>2</th>\n",
       "      <td>502</td>\n",
       "      <td>1</td>\n",
       "      <td>0</td>\n",
       "      <td>42</td>\n",
       "      <td>8</td>\n",
       "      <td>159660.80</td>\n",
       "      <td>3</td>\n",
       "      <td>1</td>\n",
       "      <td>0</td>\n",
       "      <td>113931.57</td>\n",
       "      <td>1</td>\n",
       "    </tr>\n",
       "    <tr>\n",
       "      <th>3</th>\n",
       "      <td>699</td>\n",
       "      <td>1</td>\n",
       "      <td>0</td>\n",
       "      <td>39</td>\n",
       "      <td>1</td>\n",
       "      <td>0.00</td>\n",
       "      <td>2</td>\n",
       "      <td>0</td>\n",
       "      <td>0</td>\n",
       "      <td>93826.63</td>\n",
       "      <td>0</td>\n",
       "    </tr>\n",
       "    <tr>\n",
       "      <th>4</th>\n",
       "      <td>850</td>\n",
       "      <td>2</td>\n",
       "      <td>0</td>\n",
       "      <td>43</td>\n",
       "      <td>2</td>\n",
       "      <td>125510.82</td>\n",
       "      <td>1</td>\n",
       "      <td>1</td>\n",
       "      <td>1</td>\n",
       "      <td>79084.10</td>\n",
       "      <td>0</td>\n",
       "    </tr>\n",
       "    <tr>\n",
       "      <th>...</th>\n",
       "      <td>...</td>\n",
       "      <td>...</td>\n",
       "      <td>...</td>\n",
       "      <td>...</td>\n",
       "      <td>...</td>\n",
       "      <td>...</td>\n",
       "      <td>...</td>\n",
       "      <td>...</td>\n",
       "      <td>...</td>\n",
       "      <td>...</td>\n",
       "      <td>...</td>\n",
       "    </tr>\n",
       "    <tr>\n",
       "      <th>9995</th>\n",
       "      <td>771</td>\n",
       "      <td>1</td>\n",
       "      <td>1</td>\n",
       "      <td>39</td>\n",
       "      <td>5</td>\n",
       "      <td>0.00</td>\n",
       "      <td>2</td>\n",
       "      <td>1</td>\n",
       "      <td>0</td>\n",
       "      <td>96270.64</td>\n",
       "      <td>0</td>\n",
       "    </tr>\n",
       "    <tr>\n",
       "      <th>9996</th>\n",
       "      <td>516</td>\n",
       "      <td>1</td>\n",
       "      <td>1</td>\n",
       "      <td>35</td>\n",
       "      <td>10</td>\n",
       "      <td>57369.61</td>\n",
       "      <td>1</td>\n",
       "      <td>1</td>\n",
       "      <td>1</td>\n",
       "      <td>101699.77</td>\n",
       "      <td>0</td>\n",
       "    </tr>\n",
       "    <tr>\n",
       "      <th>9997</th>\n",
       "      <td>709</td>\n",
       "      <td>1</td>\n",
       "      <td>0</td>\n",
       "      <td>36</td>\n",
       "      <td>7</td>\n",
       "      <td>0.00</td>\n",
       "      <td>1</td>\n",
       "      <td>0</td>\n",
       "      <td>1</td>\n",
       "      <td>42085.58</td>\n",
       "      <td>1</td>\n",
       "    </tr>\n",
       "    <tr>\n",
       "      <th>9998</th>\n",
       "      <td>772</td>\n",
       "      <td>3</td>\n",
       "      <td>1</td>\n",
       "      <td>42</td>\n",
       "      <td>3</td>\n",
       "      <td>75075.31</td>\n",
       "      <td>2</td>\n",
       "      <td>1</td>\n",
       "      <td>0</td>\n",
       "      <td>92888.52</td>\n",
       "      <td>1</td>\n",
       "    </tr>\n",
       "    <tr>\n",
       "      <th>9999</th>\n",
       "      <td>792</td>\n",
       "      <td>1</td>\n",
       "      <td>0</td>\n",
       "      <td>28</td>\n",
       "      <td>4</td>\n",
       "      <td>130142.79</td>\n",
       "      <td>1</td>\n",
       "      <td>1</td>\n",
       "      <td>0</td>\n",
       "      <td>38190.78</td>\n",
       "      <td>0</td>\n",
       "    </tr>\n",
       "  </tbody>\n",
       "</table>\n",
       "<p>10000 rows × 11 columns</p>\n",
       "</div>"
      ],
      "text/plain": [
       "      CreditScore  Geography  Gender  Age  Tenure    Balance  NumOfProducts  \\\n",
       "0             619          1       0   42       2       0.00              1   \n",
       "1             608          2       0   41       1   83807.86              1   \n",
       "2             502          1       0   42       8  159660.80              3   \n",
       "3             699          1       0   39       1       0.00              2   \n",
       "4             850          2       0   43       2  125510.82              1   \n",
       "...           ...        ...     ...  ...     ...        ...            ...   \n",
       "9995          771          1       1   39       5       0.00              2   \n",
       "9996          516          1       1   35      10   57369.61              1   \n",
       "9997          709          1       0   36       7       0.00              1   \n",
       "9998          772          3       1   42       3   75075.31              2   \n",
       "9999          792          1       0   28       4  130142.79              1   \n",
       "\n",
       "      HasCrCard  IsActiveMember  EstimatedSalary  Exited  \n",
       "0             1               1        101348.88       1  \n",
       "1             0               1        112542.58       0  \n",
       "2             1               0        113931.57       1  \n",
       "3             0               0         93826.63       0  \n",
       "4             1               1         79084.10       0  \n",
       "...         ...             ...              ...     ...  \n",
       "9995          1               0         96270.64       0  \n",
       "9996          1               1        101699.77       0  \n",
       "9997          0               1         42085.58       1  \n",
       "9998          1               0         92888.52       1  \n",
       "9999          1               0         38190.78       0  \n",
       "\n",
       "[10000 rows x 11 columns]"
      ]
     },
     "execution_count": 22,
     "metadata": {},
     "output_type": "execute_result"
    }
   ],
   "source": [
    "def encode_type(x):\n",
    "    if x == 'Female':\n",
    "        return 0\n",
    "    if x == 'Male':\n",
    "        return 1\n",
    "\n",
    "\n",
    "d['Gender'] = d['Gender'].transform(encode_type)\n",
    "d"
   ]
  },
  {
   "cell_type": "markdown",
   "metadata": {},
   "source": [
    "### **4. EXITED CLASS IMBALANCE**\n",
    "We will be looking at the exited class and try to balance the data set so that the learner can take an almost equal amount of observations, the major justification for this is to give each class equal priority. \n",
    "\n",
    "Data balancing is important when predicting variables with low probability of taking place.\n",
    "\n",
    "**First we check how balanced the data frame is:**"
   ]
  },
  {
   "cell_type": "code",
   "execution_count": 23,
   "metadata": {},
   "outputs": [
    {
     "name": "stdout",
     "output_type": "stream",
     "text": [
      "2037\n",
      "7963\n"
     ]
    }
   ],
   "source": [
    "# Check how balanced is the dataset\n",
    "d_churned = d[d['Exited'] == 1]\n",
    "d_retained = d[d['Exited'] == 0]\n",
    "\n",
    "print(len(d_churned))\n",
    "print(len(d_retained))"
   ]
  },
  {
   "cell_type": "markdown",
   "metadata": {},
   "source": [
    "As we can see, the number of people that are loyal customers is much higher than the people that have exited. So we conclude the data frame is imbalanced. \n",
    "\n",
    "**Now we proceed and balance the data frame**\n",
    "We do this so that the number of input samples are used to represent each of the output class (in this case Exited)"
   ]
  },
  {
   "cell_type": "code",
   "execution_count": 24,
   "metadata": {},
   "outputs": [
    {
     "name": "stdout",
     "output_type": "stream",
     "text": [
      "2037\n",
      "2037\n"
     ]
    },
    {
     "name": "stderr",
     "output_type": "stream",
     "text": [
      "/var/folders/qb/krnv1mhn7h7b_hnb5z9d1dgw0000gn/T/ipykernel_97416/1953443837.py:15: FutureWarning: The frame.append method is deprecated and will be removed from pandas in a future version. Use pandas.concat instead.\n",
      "  bln = d_churned.append(d_retained_bis)\n"
     ]
    }
   ],
   "source": [
    "# The dataset is unbalanced. \n",
    "# With this code we will undersample the dataset and get balanced classes\n",
    "\n",
    "# index property contains the indexes of the d_retained dataset\n",
    "d_retained_indexes = d_retained.index\n",
    "\n",
    "# get as many fraud indexes (randomly) as non fraud occurrences\n",
    "np.random.seed(42)\n",
    "random_d_retained_indexes = np.random.choice(d_retained_indexes, len(d_churned))\n",
    "\n",
    "# Keep those entries in d_retained\n",
    "d_retained_bis = d.loc[random_d_retained_indexes]\n",
    "\n",
    "# We will form the balanced dataset concatenating d_retained and d_churned\n",
    "bln = d_churned.append(d_retained_bis)\n",
    "\n",
    "# Check the result\n",
    "print(len(bln[bln.Exited == 1]))\n",
    "print(len(bln[bln.Exited == 0]))"
   ]
  },
  {
   "cell_type": "markdown",
   "metadata": {},
   "source": [
    "Now we have a **BALANCED** data frame ('bln'), by undersampling the data frame we got 2037 input samples to represent each of the output class."
   ]
  },
  {
   "cell_type": "markdown",
   "metadata": {},
   "source": [
    "### **5. STANDARDISATION**\n",
    "\n",
    "This process is done with the aim of normalising the range of the features in the data. We will standardise or normalise the data by substracting the mean and diving by the standard deviation: \n",
    "\n",
    "*(d[column] - d[column].mean()) / d[column].std()*"
   ]
  },
  {
   "cell_type": "code",
   "execution_count": 25,
   "metadata": {},
   "outputs": [
    {
     "data": {
      "text/html": [
       "<div>\n",
       "<style scoped>\n",
       "    .dataframe tbody tr th:only-of-type {\n",
       "        vertical-align: middle;\n",
       "    }\n",
       "\n",
       "    .dataframe tbody tr th {\n",
       "        vertical-align: top;\n",
       "    }\n",
       "\n",
       "    .dataframe thead th {\n",
       "        text-align: right;\n",
       "    }\n",
       "</style>\n",
       "<table border=\"1\" class=\"dataframe\">\n",
       "  <thead>\n",
       "    <tr style=\"text-align: right;\">\n",
       "      <th></th>\n",
       "      <th>CreditScore</th>\n",
       "      <th>Geography</th>\n",
       "      <th>Gender</th>\n",
       "      <th>Age</th>\n",
       "      <th>Tenure</th>\n",
       "      <th>Balance</th>\n",
       "      <th>NumOfProducts</th>\n",
       "      <th>HasCrCard</th>\n",
       "      <th>IsActiveMember</th>\n",
       "      <th>EstimatedSalary</th>\n",
       "      <th>Exited</th>\n",
       "    </tr>\n",
       "  </thead>\n",
       "  <tbody>\n",
       "    <tr>\n",
       "      <th>0</th>\n",
       "      <td>-0.326205</td>\n",
       "      <td>1</td>\n",
       "      <td>0</td>\n",
       "      <td>0.293503</td>\n",
       "      <td>2</td>\n",
       "      <td>-1.225786</td>\n",
       "      <td>1</td>\n",
       "      <td>1</td>\n",
       "      <td>1</td>\n",
       "      <td>0.021885</td>\n",
       "      <td>1</td>\n",
       "    </tr>\n",
       "    <tr>\n",
       "      <th>1</th>\n",
       "      <td>-0.440014</td>\n",
       "      <td>2</td>\n",
       "      <td>0</td>\n",
       "      <td>0.198154</td>\n",
       "      <td>1</td>\n",
       "      <td>0.117344</td>\n",
       "      <td>1</td>\n",
       "      <td>0</td>\n",
       "      <td>1</td>\n",
       "      <td>0.216523</td>\n",
       "      <td>0</td>\n",
       "    </tr>\n",
       "    <tr>\n",
       "      <th>2</th>\n",
       "      <td>-1.536717</td>\n",
       "      <td>1</td>\n",
       "      <td>0</td>\n",
       "      <td>0.293503</td>\n",
       "      <td>8</td>\n",
       "      <td>1.332987</td>\n",
       "      <td>3</td>\n",
       "      <td>1</td>\n",
       "      <td>0</td>\n",
       "      <td>0.240675</td>\n",
       "      <td>1</td>\n",
       "    </tr>\n",
       "    <tr>\n",
       "      <th>3</th>\n",
       "      <td>0.501496</td>\n",
       "      <td>1</td>\n",
       "      <td>0</td>\n",
       "      <td>0.007456</td>\n",
       "      <td>1</td>\n",
       "      <td>-1.225786</td>\n",
       "      <td>2</td>\n",
       "      <td>0</td>\n",
       "      <td>0</td>\n",
       "      <td>-0.108912</td>\n",
       "      <td>0</td>\n",
       "    </tr>\n",
       "    <tr>\n",
       "      <th>4</th>\n",
       "      <td>2.063781</td>\n",
       "      <td>2</td>\n",
       "      <td>0</td>\n",
       "      <td>0.388852</td>\n",
       "      <td>2</td>\n",
       "      <td>0.785689</td>\n",
       "      <td>1</td>\n",
       "      <td>1</td>\n",
       "      <td>1</td>\n",
       "      <td>-0.365258</td>\n",
       "      <td>0</td>\n",
       "    </tr>\n",
       "    <tr>\n",
       "      <th>...</th>\n",
       "      <td>...</td>\n",
       "      <td>...</td>\n",
       "      <td>...</td>\n",
       "      <td>...</td>\n",
       "      <td>...</td>\n",
       "      <td>...</td>\n",
       "      <td>...</td>\n",
       "      <td>...</td>\n",
       "      <td>...</td>\n",
       "      <td>...</td>\n",
       "      <td>...</td>\n",
       "    </tr>\n",
       "    <tr>\n",
       "      <th>9995</th>\n",
       "      <td>1.246426</td>\n",
       "      <td>1</td>\n",
       "      <td>1</td>\n",
       "      <td>0.007456</td>\n",
       "      <td>5</td>\n",
       "      <td>-1.225786</td>\n",
       "      <td>2</td>\n",
       "      <td>1</td>\n",
       "      <td>0</td>\n",
       "      <td>-0.066416</td>\n",
       "      <td>0</td>\n",
       "    </tr>\n",
       "    <tr>\n",
       "      <th>9996</th>\n",
       "      <td>-1.391870</td>\n",
       "      <td>1</td>\n",
       "      <td>1</td>\n",
       "      <td>-0.373939</td>\n",
       "      <td>10</td>\n",
       "      <td>-0.306363</td>\n",
       "      <td>1</td>\n",
       "      <td>1</td>\n",
       "      <td>1</td>\n",
       "      <td>0.027987</td>\n",
       "      <td>0</td>\n",
       "    </tr>\n",
       "    <tr>\n",
       "      <th>9997</th>\n",
       "      <td>0.604958</td>\n",
       "      <td>1</td>\n",
       "      <td>0</td>\n",
       "      <td>-0.278590</td>\n",
       "      <td>7</td>\n",
       "      <td>-1.225786</td>\n",
       "      <td>1</td>\n",
       "      <td>0</td>\n",
       "      <td>1</td>\n",
       "      <td>-1.008593</td>\n",
       "      <td>1</td>\n",
       "    </tr>\n",
       "    <tr>\n",
       "      <th>9998</th>\n",
       "      <td>1.256772</td>\n",
       "      <td>3</td>\n",
       "      <td>1</td>\n",
       "      <td>0.293503</td>\n",
       "      <td>3</td>\n",
       "      <td>-0.022606</td>\n",
       "      <td>2</td>\n",
       "      <td>1</td>\n",
       "      <td>0</td>\n",
       "      <td>-0.125224</td>\n",
       "      <td>1</td>\n",
       "    </tr>\n",
       "    <tr>\n",
       "      <th>9999</th>\n",
       "      <td>1.463698</td>\n",
       "      <td>1</td>\n",
       "      <td>0</td>\n",
       "      <td>-1.041381</td>\n",
       "      <td>4</td>\n",
       "      <td>0.859922</td>\n",
       "      <td>1</td>\n",
       "      <td>1</td>\n",
       "      <td>0</td>\n",
       "      <td>-1.076316</td>\n",
       "      <td>0</td>\n",
       "    </tr>\n",
       "  </tbody>\n",
       "</table>\n",
       "<p>10000 rows × 11 columns</p>\n",
       "</div>"
      ],
      "text/plain": [
       "      CreditScore  Geography  Gender       Age  Tenure   Balance  \\\n",
       "0       -0.326205          1       0  0.293503       2 -1.225786   \n",
       "1       -0.440014          2       0  0.198154       1  0.117344   \n",
       "2       -1.536717          1       0  0.293503       8  1.332987   \n",
       "3        0.501496          1       0  0.007456       1 -1.225786   \n",
       "4        2.063781          2       0  0.388852       2  0.785689   \n",
       "...           ...        ...     ...       ...     ...       ...   \n",
       "9995     1.246426          1       1  0.007456       5 -1.225786   \n",
       "9996    -1.391870          1       1 -0.373939      10 -0.306363   \n",
       "9997     0.604958          1       0 -0.278590       7 -1.225786   \n",
       "9998     1.256772          3       1  0.293503       3 -0.022606   \n",
       "9999     1.463698          1       0 -1.041381       4  0.859922   \n",
       "\n",
       "      NumOfProducts  HasCrCard  IsActiveMember  EstimatedSalary  Exited  \n",
       "0                 1          1               1         0.021885       1  \n",
       "1                 1          0               1         0.216523       0  \n",
       "2                 3          1               0         0.240675       1  \n",
       "3                 2          0               0        -0.108912       0  \n",
       "4                 1          1               1        -0.365258       0  \n",
       "...             ...        ...             ...              ...     ...  \n",
       "9995              2          1               0        -0.066416       0  \n",
       "9996              1          1               1         0.027987       0  \n",
       "9997              1          0               1        -1.008593       1  \n",
       "9998              2          1               0        -0.125224       1  \n",
       "9999              1          1               0        -1.076316       0  \n",
       "\n",
       "[10000 rows x 11 columns]"
      ]
     },
     "execution_count": 25,
     "metadata": {},
     "output_type": "execute_result"
    }
   ],
   "source": [
    "d_standard = d\n",
    "for column in ['CreditScore', 'Age', 'Balance','EstimatedSalary']:\n",
    "    d_standard[column] = (d_standard[column] - d_standard[column].mean()) / d_standard[column].std()\n",
    "d"
   ]
  },
  {
   "cell_type": "markdown",
   "metadata": {},
   "source": [
    "**DISCLAIMER: I will also balance the standardised data set**"
   ]
  },
  {
   "cell_type": "code",
   "execution_count": 26,
   "metadata": {},
   "outputs": [
    {
     "name": "stdout",
     "output_type": "stream",
     "text": [
      "2037\n",
      "7963\n"
     ]
    }
   ],
   "source": [
    "# Check how balanced is the dataset\n",
    "d_standard_churned = d_standard[d_standard['Exited'] == 1]\n",
    "d_standard_retained = d_standard[d_standard['Exited'] == 0]\n",
    "\n",
    "print(len(d_standard_churned))\n",
    "print(len(d_standard_retained))"
   ]
  },
  {
   "cell_type": "code",
   "execution_count": 27,
   "metadata": {},
   "outputs": [
    {
     "name": "stderr",
     "output_type": "stream",
     "text": [
      "/var/folders/qb/krnv1mhn7h7b_hnb5z9d1dgw0000gn/T/ipykernel_97416/2939982177.py:15: FutureWarning: The frame.append method is deprecated and will be removed from pandas in a future version. Use pandas.concat instead.\n",
      "  bln_standard = d_standard_churned.append(d_standard_retained_bis)\n"
     ]
    },
    {
     "name": "stdout",
     "output_type": "stream",
     "text": [
      "2037\n",
      "2037\n"
     ]
    }
   ],
   "source": [
    "# The dataset is unbalanced. \n",
    "# With this code we will undersample the dataset and get balanced classes\n",
    "\n",
    "# index property contains the indexes of the d_retained dataset\n",
    "d_standard_retained_indexes = d_standard_retained.index\n",
    "\n",
    "# get as many fraud indexes (randomly) as non fraud occurrences\n",
    "np.random.seed(42)\n",
    "random_d_standard_retained_indexes = np.random.choice(d_standard_retained_indexes, len(d_standard_churned))\n",
    "\n",
    "# Keep those entries in d_retained\n",
    "d_standard_retained_bis = d_standard.loc[random_d_standard_retained_indexes]\n",
    "\n",
    "# We will form the balanced dataset concatenating d_retained and d_churned\n",
    "bln_standard = d_standard_churned.append(d_standard_retained_bis)\n",
    "\n",
    "# Check the result\n",
    "print(len(bln_standard[bln_standard.Exited == 1]))\n",
    "print(len(bln_standard[bln_standard.Exited == 0]))"
   ]
  },
  {
   "cell_type": "markdown",
   "metadata": {},
   "source": [
    "### **TRAIN AND TEST DATA SETS**\n",
    "\n",
    "At this point, what I have noticed is that we should sepparate the data set into a **TEST** dataframe and a **TRAIN** dataframe. So what I will do is sepparate the **'d'** dataframe (the initial dataframe) into test and train. Nevertheless I have noticed that some of the libraries do this step on their own. So this might be useful or not, +++++ I would have to balance these dataframes whenever necessary."
   ]
  },
  {
   "cell_type": "code",
   "execution_count": 28,
   "metadata": {},
   "outputs": [
    {
     "name": "stdout",
     "output_type": "stream",
     "text": [
      "8000\n",
      "2000\n"
     ]
    }
   ],
   "source": [
    "d_train = d.sample(frac=0.8,random_state=200)\n",
    "d_test = d.drop(d_train.index)\n",
    "print(len(d_train))\n",
    "print(len(d_test))"
   ]
  },
  {
   "cell_type": "code",
   "execution_count": 29,
   "metadata": {},
   "outputs": [
    {
     "name": "stdout",
     "output_type": "stream",
     "text": [
      "8000\n",
      "2000\n"
     ]
    }
   ],
   "source": [
    "d_standard_train = d_standard.sample(frac=0.8,random_state=200)\n",
    "d_standard_test = d_standard.drop(d_standard_train.index)\n",
    "print(len(d_standard_train))\n",
    "print(len(d_standard_test))"
   ]
  },
  {
   "cell_type": "markdown",
   "metadata": {},
   "source": [
    "________________________________________________________________________________________________________________________________________________\n",
    "## **OUTPUT OF THE DATA PREPARATION SECTION**\n",
    "\n",
    "In this chunk of Markdown I give an overview and comments about the outputs of the ***DATA PREPARATION*** section of the exercise. \n",
    "\n",
    "This gives me a pretty good summary of the variables I can use in the next sections. \n",
    "\n",
    "### **Non-Standardised Outputs:**\n",
    "\n",
    "- **d** = original dataframe to which I performed the next operations:\n",
    "    - Removed NULL values (NaN)\n",
    "    - Narrowed down the columns, removing *RowNumber, CustomerID and Surname* columns\n",
    "    - Encoded the next category columns: *Geography and Gender*\n",
    "\n",
    "- **d_churned** = dataframe with the rows from **d** that have an exited value of 1 (this means customers that left) ***length = 2037***\n",
    "- **d_retained** = dataframe with the rows from **d** that have an exited value of 0 (this means customers that are loyal) ***length = 7963***\n",
    "- **d_retained_bis** = this is a narrowed down version of **d_retained** with the same number of rows , chosen randomly ***length = 2037***\n",
    "\n",
    "- **bln** = balanced data set with 2037 rows of churned customers and 2037 rows of retained customers ***length = 2 * 2037***\n",
    "\n",
    "- **d_train** = train data set, ***length = 8000***\n",
    "- **d_test** = test data set, ***length = 2000***\n",
    "\n",
    "\n",
    "### **Standardised Outputs:**\n",
    "I will first do the classification part of the exercise with the non-standardised data set and the with the standardised, this will enable be to compare the results. I decided not to compare the unbalanced and balanced results, assuming the balanced data set will produce much better predictions. \n",
    "\n",
    "- **d_standard** = STANDARDISED original dataframe to which I performed the next operations:\n",
    "    - Removed NULL values (NaN)\n",
    "    - Narrowed down the columns, removing *RowNumber, CustomerID and Surname* columns\n",
    "    - Encoded the next category columns: *Geography and Gender*\n",
    "\n",
    "- **d_standard_churned** = STANDARDISED dataframe with the rows from **d** that have an exited value of 1 (this means customers that left) ***length = 2037***\n",
    "- **d_standard_retained** = STANDARDISED dataframe with the rows from **d** that have an exited value of 0 (this means customers that are loyal) ***length = 7963***\n",
    "- **d_standard_retained_bis** = STANDARDISED this is a narrowed down version of **d_retained** with the same number of rows , chosen randomly ***length = 2037***\n",
    "\n",
    "- **bln_standard** = STANDARDISED balanced data set with 2037 rows of churned customers and 2037 rows of retained customers ***length = 2 * 2037***\n",
    "\n",
    "- **d_standard_train** = STANDARDISED train data set, ***length = 8000***\n",
    "- **d_standard_test** = STANDARDISED test data set, ***length = 2000***\n",
    "\n",
    "________________________________________________________________________________________________________________________________________________"
   ]
  },
  {
   "cell_type": "markdown",
   "metadata": {},
   "source": [
    "________________________________________________________________________________________________________________________________________________\n",
    "# **CLASSIFICATION MODELS APPLICATION**"
   ]
  },
  {
   "cell_type": "markdown",
   "metadata": {},
   "source": [
    "________________________________________________________________________________________________________________________________________________\n",
    "## **1. LogisticRegression**\n",
    "\n",
    "Logistic regression, despite its name, is a linear model for classification rather than regression. Logistic regression is also known in the literature as logit regression, maximum-entropy classification (MaxEnt) or the log-linear classifier. In this model, the probabilities describing the possible outcomes of a single trial are modeled using a logistic function."
   ]
  },
  {
   "cell_type": "markdown",
   "metadata": {},
   "source": [
    "### **1.1. LogisticRegression, Unbalanced, Non-standardised, with Train and Test dataframes**"
   ]
  },
  {
   "cell_type": "code",
   "execution_count": 41,
   "metadata": {},
   "outputs": [
    {
     "name": "stdout",
     "output_type": "stream",
     "text": [
      "Confusion Matrix: --------------------\n",
      "[[1552   58]\n",
      " [ 308   82]]\n",
      "Mean acccuracy: 0.817\n",
      "The cross_val_score function returns a vector with the score for every partition in the cross validation: \n",
      "[0.78091438 0.75933128 0.77008133 0.76541565 0.74144561]\n",
      "ROC Area Under the Curve: 0.7634376468616683\n"
     ]
    }
   ],
   "source": [
    "LogReg1 = LogisticRegression(random_state=0).fit(d_train.drop(columns = [\"Exited\"]),d_train[\"Exited\"])\n",
    "LogReg1_prediction = LogReg1.predict(d_test.drop(columns = [\"Exited\"]))\n",
    "auc11 = cross_val_score(LogisticRegression(random_state=0), d.drop(columns = [\"Exited\"]),d[\"Exited\"], scoring ='roc_auc')\n",
    "\n",
    "print (\"Confusion Matrix: --------------------\")\n",
    "print(metrics.confusion_matrix(d_test[\"Exited\"], LogReg1_prediction))\n",
    "print (\"Mean acccuracy: \" + str(LogReg1.score(d_test.drop(columns = [\"Exited\"]),d_test[\"Exited\"])))\n",
    "print(\"The cross_val_score function returns a vector with the score for every partition in the cross validation: \")\n",
    "print(auc11)\n",
    "print (\"ROC Area Under the Curve: \" + str(auc11.mean()))"
   ]
  },
  {
   "cell_type": "markdown",
   "metadata": {},
   "source": [
    "**Accuracy** = 0.817\n",
    "\n",
    "**AUC** = 0.7634"
   ]
  },
  {
   "cell_type": "markdown",
   "metadata": {},
   "source": [
    "### **1.2. LogisticRegression, Unbalanced, Standardised, with Train and Test dataframes**"
   ]
  },
  {
   "cell_type": "code",
   "execution_count": 42,
   "metadata": {},
   "outputs": [
    {
     "name": "stdout",
     "output_type": "stream",
     "text": [
      "Confusion Matrix: --------------------\n",
      "[[1552   58]\n",
      " [ 308   82]]\n",
      "Mean acccuracy: 0.817\n",
      "The cross_val_score function returns a vector with the score for every partition in the cross validation: \n",
      "[0.78091438 0.75933128 0.77008133 0.76541565 0.74144561]\n",
      "ROC Area Under the Curve: 0.7634376468616683\n"
     ]
    }
   ],
   "source": [
    "LogReg2 = LogisticRegression(random_state=0).fit(d_standard_train.drop(columns = [\"Exited\"]),d_standard_train[\"Exited\"])\n",
    "LogReg2_prediction = LogReg2.predict(d_standard_test.drop(columns = [\"Exited\"]))\n",
    "auc12 = cross_val_score(LogisticRegression(random_state=0), d_standard.drop(columns = [\"Exited\"]),d_standard[\"Exited\"], scoring ='roc_auc')\n",
    "\n",
    "print (\"Confusion Matrix: --------------------\")\n",
    "print(metrics.confusion_matrix(d_standard_test[\"Exited\"], LogReg2_prediction))\n",
    "print (\"Mean acccuracy: \" + str(LogReg2.score(d_standard_test.drop(columns = [\"Exited\"]),d_standard_test[\"Exited\"])))\n",
    "print(\"The cross_val_score function returns a vector with the score for every partition in the cross validation: \")\n",
    "print(auc12)\n",
    "print (\"ROC Area Under the Curve: \" + str(auc12.mean()))"
   ]
  },
  {
   "cell_type": "markdown",
   "metadata": {},
   "source": [
    "**Accuracy** = 0.817\n",
    "\n",
    "**AUC** = 0.7634\n",
    "\n",
    "As we can see, with unbalanced datasets, the logistic regression model gives the same accuracy, so we can conclude that the standardisation does not make a difference. Let's try with the balanced set now: "
   ]
  },
  {
   "cell_type": "markdown",
   "metadata": {},
   "source": [
    "### **1.3. LogisticRegression, Balanced, Non-Standardised**\n",
    "\n",
    "First let's divide the balanced data set 'bln' into train and test data:"
   ]
  },
  {
   "cell_type": "code",
   "execution_count": 32,
   "metadata": {},
   "outputs": [
    {
     "name": "stdout",
     "output_type": "stream",
     "text": [
      "3259\n",
      "737\n"
     ]
    }
   ],
   "source": [
    "bln_train = bln.sample(frac=0.8,random_state=200)\n",
    "bln_test = bln.drop(bln_train.index)\n",
    "print(len(bln_train))\n",
    "print(len(bln_test))"
   ]
  },
  {
   "cell_type": "markdown",
   "metadata": {},
   "source": [
    "Now let's implement the LogisticRegression model:"
   ]
  },
  {
   "cell_type": "code",
   "execution_count": 47,
   "metadata": {},
   "outputs": [
    {
     "name": "stdout",
     "output_type": "stream",
     "text": [
      "[0.66748466 0.65521472 0.63558282 0.69079755 0.66584767]\n",
      "Mean accuracy: 0.6629854840897785\n",
      "Confusion Matrix: --------------------\n",
      "[[225  99]\n",
      " [134 279]]\n",
      "Mean acccuracy: 0.683853459972863\n",
      "The cross_val_score function returns a vector with the score for every partition in the cross validation: \n",
      "[0.71344004 0.69730091 0.70093222 0.74654333 0.72639135]\n",
      "Mean ROC Area Under the Curve: 0.7169215701662587\n"
     ]
    }
   ],
   "source": [
    "LogReg3 = LogisticRegression(random_state=0).fit(bln_train.drop(columns = [\"Exited\"]),bln_train[\"Exited\"])\n",
    "LogReg3_prediction = LogReg3.predict(bln_test.drop(columns = [\"Exited\"]))\n",
    "auc13 = cross_val_score(LogisticRegression(random_state=0), bln.drop(columns = [\"Exited\"]),bln[\"Exited\"], scoring ='roc_auc')\n",
    "#Here I'm trying to caculate the mean accuracy with the crass_val_score function -> different method but pretty much the same result\n",
    "auc131 = cross_val_score(LogisticRegression(random_state=0), bln.drop(columns = [\"Exited\"]),bln[\"Exited\"])\n",
    "print (auc131)\n",
    "print (\"Mean accuracy: \" + str(auc131.mean()))\n",
    "\n",
    "print (\"Confusion Matrix: --------------------\")\n",
    "print(metrics.confusion_matrix(bln_test[\"Exited\"], LogReg3_prediction))\n",
    "print (\"Mean acccuracy: \" + str(LogReg3.score(bln_test.drop(columns = [\"Exited\"]),bln_test[\"Exited\"])))\n",
    "print(\"The cross_val_score function returns a vector with the score for every partition in the cross validation: \")\n",
    "print(auc13)\n",
    "print (\"Mean ROC Area Under the Curve: \" + str(auc13.mean()))"
   ]
  },
  {
   "cell_type": "markdown",
   "metadata": {},
   "source": [
    "**Accuracy** = 0.68385\n",
    "\n",
    "**AUC** = 0.7169\n",
    "\n",
    "Here we obtain a curious result, the accuracy is lower that the AUC."
   ]
  },
  {
   "cell_type": "markdown",
   "metadata": {},
   "source": [
    "### **1.4. LogisticRegression, Balanced, Non-Standardised**\n",
    "\n",
    "First let's divide the balanced standarised data set 'bln_standard' into train and test data:"
   ]
  },
  {
   "cell_type": "code",
   "execution_count": 34,
   "metadata": {},
   "outputs": [
    {
     "name": "stdout",
     "output_type": "stream",
     "text": [
      "3259\n",
      "737\n"
     ]
    }
   ],
   "source": [
    "bln_standard_train = bln_standard.sample(frac=0.8,random_state=200)\n",
    "bln_standard_test = bln_standard.drop(bln_standard_train.index)\n",
    "print(len(bln_standard_train))\n",
    "print(len(bln_standard_test))"
   ]
  },
  {
   "cell_type": "code",
   "execution_count": 48,
   "metadata": {},
   "outputs": [
    {
     "name": "stdout",
     "output_type": "stream",
     "text": [
      "[0.72638037 0.71042945 0.71042945 0.7202454  0.69287469]\n",
      "Mean accuracy: 0.712071871090276\n",
      "Confusion Matrix: --------------------\n",
      "[[239  85]\n",
      " [122 291]]\n",
      "Mean acccuracy: 0.7191316146540027\n",
      "The cross_val_score function returns a vector with the score for every partition in the cross validation: \n",
      "[0.77301633 0.76182734 0.77114949 0.78870983 0.76834149]\n",
      "Mean ROC Area Under the Curve: 0.7726088969838065\n"
     ]
    }
   ],
   "source": [
    "LogReg4 = LogisticRegression(random_state=0).fit(bln_standard_train.drop(columns = [\"Exited\"]),bln_standard_train[\"Exited\"])\n",
    "LogReg4_prediction = LogReg4.predict(bln_standard_test.drop(columns = [\"Exited\"]))\n",
    "auc14 = cross_val_score(LogisticRegression(random_state=0), bln_standard.drop(columns = [\"Exited\"]),bln_standard[\"Exited\"], scoring ='roc_auc')\n",
    "#Here I'm trying to caculate the mean accuracy with the crass_val_score function -> different method but pretty much the same result\n",
    "auc141 = cross_val_score(LogisticRegression(random_state=0), bln_standard.drop(columns = [\"Exited\"]),bln_standard[\"Exited\"])\n",
    "print (auc141)\n",
    "print (\"Mean accuracy: \" + str(auc141.mean()))\n",
    "\n",
    "print (\"Confusion Matrix: --------------------\")\n",
    "print(metrics.confusion_matrix(bln_standard_test[\"Exited\"], LogReg4_prediction))\n",
    "print (\"Mean acccuracy: \" + str(LogReg4.score(bln_standard_test.drop(columns = [\"Exited\"]),bln_standard_test[\"Exited\"])))\n",
    "print(\"The cross_val_score function returns a vector with the score for every partition in the cross validation: \")\n",
    "print(auc14)\n",
    "print (\"Mean ROC Area Under the Curve: \" + str(auc14.mean()))"
   ]
  },
  {
   "cell_type": "markdown",
   "metadata": {},
   "source": [
    "**Accuracy** = 0.7191\n",
    "\n",
    "**AUC** = 0.7726\n",
    "\n",
    "With the balanced set, the standarisation improves accuracy, Nevertheless we obtain the same result of the AUC being lower that the accuracy"
   ]
  },
  {
   "cell_type": "markdown",
   "metadata": {},
   "source": [
    "### **1.5. Conclusions of LogisticRegression**\n",
    "\n",
    "The standarisation does not make a difference with the unbalanced set, and both the Accuracy and AUC are higher than with a balanced set. \n",
    "\n",
    "But using the balanced set, we observe a curious result, the AUC is higher than the accuracy. \n",
    "\n",
    "|                              | Accuracy | Roc_AUC |\n",
    "|------------------------------|----------|---------|\n",
    "| Unbalanced + Non-standardise | 0.817    | 0.7634  |\n",
    "| Unbalanced + Standardise     | 0.817    | 0.7634  |\n",
    "| Balanced + Non-standardise   | 0.6838   | 0.7169  |\n",
    "| Balanced + Standardise       | 0.7191   | 0.7726  |\n"
   ]
  },
  {
   "cell_type": "markdown",
   "metadata": {},
   "source": [
    "________________________________________________________________________________________________________________________________________________\n",
    "## **2. SupportVectorClassification (SVC)**\n",
    "\n"
   ]
  },
  {
   "cell_type": "markdown",
   "metadata": {},
   "source": [
    "First we set up the GridSearchCV to tune the metaparameters. \n",
    "\n",
    "- **estimator:** SVC() support vecor classification\n",
    "\n",
    "- **parameter grid:** these are the parameters we have defined in the 'params' variable where: \n",
    "    - **C:** Regularization parameter. The strength of the regularization is inversely proportional to C. Must be strictly positive.\n",
    "    - **Kernel:** Specifies the kernel type to be used in the algorithm. In this case 'poly' which dived the dataset into 2 degrees with a split0_testScore of \t\n",
    "        0.80\n",
    "    - **degree:** Degree of the polynomial kernel function (‘poly’). Ignored by all other kernels.\n",
    "    \n",
    "\n",
    "- **scoring:** Strategy to evaluate the performance of the cross-validated model on the test set."
   ]
  },
  {
   "cell_type": "markdown",
   "metadata": {},
   "source": [
    "________________________________________________________________________________________________________________________________________________\n",
    "### **GridSearchCV application to SupportVectorClassification:**\n",
    "Here I show the code needed to implement the GridSearchCV module, I do this to show you that I have used it. Nevertheless I have decided not to proceed with this module to study the SupportVectorClassification, because I have determined that I won't be able to produce as many results as using the SVC model directly, the cross_val_score function will already give me the partitions I want to do the cross validation. Same thing for the GradientBoostingClassifier."
   ]
  },
  {
   "cell_type": "code",
   "execution_count": 100,
   "metadata": {},
   "outputs": [],
   "source": [
    "# At this point you must include the code to train the models, tune their metaparameters and crossvalidate the results\n",
    "# An example of use of GridSearchCV with the roc_auc score:\n",
    "\n",
    "#   # define the parameters grid  \n",
    "params = [{'C': [1, 2], 'kernel': ['poly'], 'degree': [1, 2]}]\n",
    "\n",
    "#   # get the models calling GridSearchCV\n",
    "svc_models = GridSearchCV(SVC(), params, scoring='roc_auc')\n",
    "best_svc = svc_models.fit(d.drop(columns = [\"Exited\"]),d[\"Exited\"])\n",
    "svc = svc_models.score(d.drop(columns = [\"Exited\"]),d[\"Exited\"])\n"
   ]
  },
  {
   "cell_type": "code",
   "execution_count": 99,
   "metadata": {},
   "outputs": [
    {
     "name": "stdout",
     "output_type": "stream",
     "text": [
      "   Best Score (roc_auc_score): 0.778\n",
      "   Best Parameters: \n",
      "     C: 1\n",
      "     degree: 2\n",
      "     kernel: poly\n"
     ]
    }
   ],
   "source": [
    "print('   Best Score (roc_auc_score): '+ str(np.round(best_svc.best_score_, 3)))\n",
    "\n",
    "print('   Best Parameters: ')\n",
    "\n",
    "for key, value in best_svc.best_params_.items():\n",
    "    print('     ' + str(key) + ': ' + str(value))"
   ]
  },
  {
   "cell_type": "markdown",
   "metadata": {},
   "source": [
    "**DISCLAIMER:** I have only done the case of Unbalanced not standarised data set with GridSearchCV because it has proven to give the most accurate results\n",
    "\n",
    "**AUC=** 0.778 -> Best AUC calculated using the GridSearchCV module."
   ]
  },
  {
   "cell_type": "markdown",
   "metadata": {},
   "source": [
    "### **2.1. SVC() Unbalanced, Non-standardised**"
   ]
  },
  {
   "cell_type": "code",
   "execution_count": 70,
   "metadata": {},
   "outputs": [
    {
     "name": "stdout",
     "output_type": "stream",
     "text": [
      "Confusion Matrix: --------------------\n",
      "[[1599   11]\n",
      " [ 318   72]]\n",
      "Mean accuracy: 0.82875\n",
      "The cross_val_score function returns a vector with the score for every partition in the cross validation: \n",
      "[0.8210384  0.82685486 0.83524048 0.82970644 0.8115203 ]\n",
      "ROC Area Under the Curve: 0.8248720975152548\n"
     ]
    }
   ],
   "source": [
    "svc1 = SVC(random_state=0).fit(d_train.drop(columns = [\"Exited\"]),d_train[\"Exited\"])\n",
    "scv1_prediction = svc1.predict(d_test.drop(columns = [\"Exited\"]))\n",
    "svc1_auc = cross_val_score(SVC(random_state=0), d.drop(columns = [\"Exited\"]),d[\"Exited\"], scoring ='roc_auc')\n",
    "\n",
    "print (\"Confusion Matrix: --------------------\")\n",
    "print(metrics.confusion_matrix(d_test[\"Exited\"], scv1_prediction))\n",
    "print(\"Mean accuracy: \" + str(svc1.score(d_train.drop(columns = [\"Exited\"]),d_train[\"Exited\"])))\n",
    "print(\"The cross_val_score function returns a vector with the score for every partition in the cross validation: \")\n",
    "print(svc1_auc)\n",
    "print (\"ROC Area Under the Curve: \" + str(svc1_auc.mean()))"
   ]
  },
  {
   "cell_type": "markdown",
   "metadata": {},
   "source": [
    "**Accuracy** = 0.82875\n",
    "\n",
    "**AUC** = 0.82487"
   ]
  },
  {
   "cell_type": "markdown",
   "metadata": {},
   "source": [
    "### **2.2. SVC() Unbalanced, Standardised**"
   ]
  },
  {
   "cell_type": "code",
   "execution_count": 71,
   "metadata": {},
   "outputs": [
    {
     "name": "stdout",
     "output_type": "stream",
     "text": [
      "Confusion Matrix: --------------------\n",
      "[[1599   11]\n",
      " [ 318   72]]\n",
      "Mean accuracy: 0.82875\n",
      "The cross_val_score function returns a vector with the score for every partition in the cross validation: \n",
      "[0.8210384  0.82685486 0.83524048 0.82970644 0.8115203 ]\n",
      "ROC Area Under the Curve: 0.8248720975152548\n"
     ]
    }
   ],
   "source": [
    "svc2 = SVC(random_state=0).fit(d_standard_train.drop(columns = [\"Exited\"]),d_standard_train[\"Exited\"])\n",
    "scv2_prediction = svc2.predict(d_standard_test.drop(columns = [\"Exited\"]))\n",
    "svc2_auc = cross_val_score(SVC(random_state=0), d_standard.drop(columns = [\"Exited\"]),d_standard[\"Exited\"], scoring ='roc_auc')\n",
    "\n",
    "print (\"Confusion Matrix: --------------------\")\n",
    "print(metrics.confusion_matrix(d_standard_test[\"Exited\"], scv2_prediction))\n",
    "print(\"Mean accuracy: \" + str(svc2.score(d_standard_train.drop(columns = [\"Exited\"]),d_standard_train[\"Exited\"])))\n",
    "print(\"The cross_val_score function returns a vector with the score for every partition in the cross validation: \")\n",
    "print(svc2_auc)\n",
    "print (\"ROC Area Under the Curve: \" + str(svc2_auc.mean()))"
   ]
  },
  {
   "cell_type": "markdown",
   "metadata": {},
   "source": [
    "**Accuracy** = 0.82875\n",
    "\n",
    "**AUC** = 0.82487\n",
    "\n",
    "-> Once again, with the unbalanced data set, the standardisation does not make a difference."
   ]
  },
  {
   "cell_type": "markdown",
   "metadata": {},
   "source": [
    "### **2.3. SVC() Balanced, Non-Standardised**\n",
    "First let's divide the balanced data set 'bln' into train and test data:"
   ]
  },
  {
   "cell_type": "code",
   "execution_count": 72,
   "metadata": {},
   "outputs": [
    {
     "name": "stdout",
     "output_type": "stream",
     "text": [
      "3259\n",
      "737\n"
     ]
    }
   ],
   "source": [
    "bln_train = bln.sample(frac=0.8,random_state=200)\n",
    "bln_test = bln.drop(bln_train.index)\n",
    "print(len(bln_train))\n",
    "print(len(bln_test))"
   ]
  },
  {
   "cell_type": "code",
   "execution_count": 74,
   "metadata": {},
   "outputs": [
    {
     "name": "stdout",
     "output_type": "stream",
     "text": [
      "Confusion Matrix: --------------------\n",
      "[[131 193]\n",
      " [ 99 314]]\n",
      "Mean accuracy: 0.566738263270942\n",
      "The cross_val_score function returns a vector with the score for every partition in the cross validation: \n",
      "[0.5980633  0.56941032 0.56874789 0.59538951 0.57967147]\n",
      "ROC Area Under the Curve: 0.5822564993615723\n"
     ]
    }
   ],
   "source": [
    "svc3 = SVC(random_state=0).fit(bln_train.drop(columns = [\"Exited\"]),bln_train[\"Exited\"])\n",
    "scv3_prediction = svc3.predict(bln_test.drop(columns = [\"Exited\"]))\n",
    "svc3_auc = cross_val_score(SVC(random_state=0), bln.drop(columns = [\"Exited\"]),bln[\"Exited\"], scoring ='roc_auc')\n",
    "\n",
    "print (\"Confusion Matrix: --------------------\")\n",
    "print(metrics.confusion_matrix(bln_test[\"Exited\"], scv3_prediction))\n",
    "print(\"Mean accuracy: \" + str(svc3.score(bln_train.drop(columns = [\"Exited\"]),bln_train[\"Exited\"])))\n",
    "print(\"The cross_val_score function returns a vector with the score for every partition in the cross validation: \")\n",
    "print(svc3_auc)\n",
    "print (\"ROC Area Under the Curve: \" + str(svc3_auc.mean()))"
   ]
  },
  {
   "cell_type": "markdown",
   "metadata": {},
   "source": [
    "**Accuracy** = 0.56673\n",
    "\n",
    "**AUC** = 0.58225\n",
    "\n",
    "And once again, we see a huge drop in the accuracy with the balanced set. Let's try it standardising the data."
   ]
  },
  {
   "cell_type": "markdown",
   "metadata": {},
   "source": [
    "### **2.4. SVC() Balanced,Standardised**\n",
    "First let's divide the balanced standarised data set 'bln_standard' into train and test data:"
   ]
  },
  {
   "cell_type": "code",
   "execution_count": 75,
   "metadata": {},
   "outputs": [
    {
     "name": "stdout",
     "output_type": "stream",
     "text": [
      "3259\n",
      "737\n"
     ]
    }
   ],
   "source": [
    "bln_standard_train = bln_standard.sample(frac=0.8,random_state=200)\n",
    "bln_standard_test = bln_standard.drop(bln_standard_train.index)\n",
    "print(len(bln_standard_train))\n",
    "print(len(bln_standard_test))"
   ]
  },
  {
   "cell_type": "code",
   "execution_count": 77,
   "metadata": {},
   "outputs": [
    {
     "name": "stdout",
     "output_type": "stream",
     "text": [
      "Confusion Matrix: --------------------\n",
      "[[248  76]\n",
      " [104 309]]\n",
      "Mean accuracy: 0.7465480208652961\n",
      "The cross_val_score function returns a vector with the score for every partition in the cross validation: \n",
      "[0.8044214  0.79241942 0.80693862 0.82281881 0.80788293]\n",
      "ROC Area Under the Curve: 0.8068962378400159\n"
     ]
    }
   ],
   "source": [
    "svc4 = SVC(random_state=0).fit(bln_standard_train.drop(columns = [\"Exited\"]),bln_standard_train[\"Exited\"])\n",
    "scv4_prediction = svc4.predict(bln_standard_test.drop(columns = [\"Exited\"]))\n",
    "svc4_auc = cross_val_score(SVC(random_state=0), bln_standard.drop(columns = [\"Exited\"]),bln_standard[\"Exited\"], scoring ='roc_auc')\n",
    "\n",
    "print (\"Confusion Matrix: --------------------\")\n",
    "print(metrics.confusion_matrix(bln_standard_test[\"Exited\"], scv4_prediction))\n",
    "print(\"Mean accuracy: \" + str(svc4.score(bln_standard_train.drop(columns = [\"Exited\"]),bln_standard_train[\"Exited\"])))\n",
    "print(\"The cross_val_score function returns a vector with the score for every partition in the cross validation: \")\n",
    "print(svc4_auc)\n",
    "print (\"ROC Area Under the Curve: \" + str(svc4_auc.mean()))"
   ]
  },
  {
   "cell_type": "markdown",
   "metadata": {},
   "source": [
    "**Accuracy** = 0.7465\n",
    "\n",
    "**AUC** = 0.80689\n",
    "\n",
    "With the balanced set we see again a raise in the accuracy wheneever we standardise the data, but still the auc is higher than the accuracy."
   ]
  },
  {
   "cell_type": "markdown",
   "metadata": {},
   "source": [
    "### **2.5. Conclusions of SupportVectorClassification**\n",
    "\n",
    "The standarisation does not make a difference with the unbalanced set, and both the Accuracy and AUC are higher than with a balanced set. \n",
    "\n",
    "But using the balanced set, we observe a curious result, the AUC is higher than the accuracy. \n",
    "\n",
    "|                              | Accuracy | Roc_AUC |\n",
    "|------------------------------|----------|---------|\n",
    "| Unbalanced + Non-standardise | 0.82875  | 0.82487 |\n",
    "| Unbalanced + Standardise     | 0.82875  | 0.82487 |\n",
    "| Balanced + Non-standardise   | 0.56673  | 0.58225 |\n",
    "| Balanced + Standardise       | 0.7465   | 0.80689 |"
   ]
  },
  {
   "cell_type": "markdown",
   "metadata": {},
   "source": [
    "________________________________________________________________________________________________________________________________________________\n",
    "## **3. GradientBoostClassifier**\n",
    "This method uses the gradients in the loss function to weight the points that are difficult to predict. Ensemble methods are very powerful and usually get very good results."
   ]
  },
  {
   "cell_type": "markdown",
   "metadata": {},
   "source": [
    "### **GridSearchCV application to SupportVectorClassification:**\n",
    "Here I show the code needed to implement the GridSearchCV module, I do this to show you that I have used it. Nevertheless I have decided not to proceed with this module to study the SupportVectorClassification, because I have determined that I won't be able to produce as many results as using the SVC model directly, the cross_val_score function will already give me the partitions I want to do the cross validation. Same thing for the GradientBoostingClassifier."
   ]
  },
  {
   "cell_type": "code",
   "execution_count": 101,
   "metadata": {},
   "outputs": [],
   "source": [
    "# At this point you must include the code to train the models, tune their metaparameters and crossvalidate the results\n",
    "# An example of use of GridSearchCV with the roc_auc score:\n",
    "\n",
    "#   # define the parameters grid  \n",
    "params = [{'learning_rate': [0.001, 0.01], 'n_estimators': [600], 'criterion': ['friedman_mse', 'squared_error']}]\n",
    "\n",
    "#   # get the models calling GridSearchCV\n",
    "gbc_models = GridSearchCV(GradientBoostingClassifier(random_state=0), params, scoring='roc_auc')\n",
    "best_gbc = gbc_models.fit(d.drop(columns = [\"Exited\"]),d[\"Exited\"])\n",
    "gbc = gbc_models.score(d.drop(columns = [\"Exited\"]),d[\"Exited\"])"
   ]
  },
  {
   "cell_type": "code",
   "execution_count": 102,
   "metadata": {},
   "outputs": [
    {
     "name": "stdout",
     "output_type": "stream",
     "text": [
      "   Best Score (roc_auc_score): 0.863\n",
      "   Best Parameters: \n",
      "     criterion: friedman_mse\n",
      "     learning_rate: 0.01\n",
      "     n_estimators: 600\n"
     ]
    }
   ],
   "source": [
    "print('   Best Score (roc_auc_score): '+ str(np.round(best_gbc.best_score_, 3)))\n",
    "\n",
    "print('   Best Parameters: ')\n",
    "\n",
    "for key, value in best_gbc.best_params_.items():\n",
    "    print('     ' + str(key) + ': ' + str(value))"
   ]
  },
  {
   "cell_type": "markdown",
   "metadata": {},
   "source": [
    "**DISCLAIMER:** I have only done the case of Unbalanced not standarised data set with GridSearchCV because it has proven to give the most accurate results\n",
    "\n",
    "**AUC=** 0.863 -> Best AUC calculated using the GridSearchCV module."
   ]
  },
  {
   "cell_type": "markdown",
   "metadata": {},
   "source": [
    "### **3.1. GBC Unbalanced, Non-standarised**"
   ]
  },
  {
   "cell_type": "code",
   "execution_count": 80,
   "metadata": {},
   "outputs": [
    {
     "name": "stdout",
     "output_type": "stream",
     "text": [
      "Confusion Matrix: --------------------\n",
      "[[1551   59]\n",
      " [ 208  182]]\n",
      "Mean accuracy: 0.87325\n",
      "The cross_val_score function returns a vector with the score for every partition in the cross validation: \n",
      "[0.8655879  0.86832677 0.86441526 0.86673191 0.86191045]\n",
      "ROC Area Under the Curve: 0.8653944579755087\n"
     ]
    }
   ],
   "source": [
    "gbc1 = GradientBoostingClassifier(random_state=0).fit(d_train.drop(columns = [\"Exited\"]),d_train[\"Exited\"])\n",
    "gbc1_prediction = gbc1.predict(d_test.drop(columns = [\"Exited\"]))\n",
    "gbc1_auc = cross_val_score(GradientBoostingClassifier(random_state=0), d.drop(columns = [\"Exited\"]),d[\"Exited\"], scoring ='roc_auc')\n",
    "\n",
    "print (\"Confusion Matrix: --------------------\")\n",
    "print(metrics.confusion_matrix(d_test[\"Exited\"], gbc1_prediction))\n",
    "print(\"Mean accuracy: \" + str(gbc1.score(d_train.drop(columns = [\"Exited\"]),d_train[\"Exited\"])))\n",
    "print(\"The cross_val_score function returns a vector with the score for every partition in the cross validation: \")\n",
    "print(gbc1_auc)\n",
    "print (\"ROC Area Under the Curve: \" + str(gbc1_auc.mean()))"
   ]
  },
  {
   "cell_type": "markdown",
   "metadata": {},
   "source": [
    "**Accuracy** = 0.87325\n",
    "\n",
    "**AUC** = 0.8653"
   ]
  },
  {
   "cell_type": "markdown",
   "metadata": {},
   "source": [
    "### **3.2. GBC Unbalanced, Standarised**"
   ]
  },
  {
   "cell_type": "code",
   "execution_count": 87,
   "metadata": {},
   "outputs": [
    {
     "name": "stdout",
     "output_type": "stream",
     "text": [
      "Confusion Matrix: --------------------\n",
      "[[1551   59]\n",
      " [ 208  182]]\n",
      "Mean accuracy: 0.87325\n",
      "The cross_val_score function returns a vector with the score for every partition in the cross validation: \n",
      "[0.8655879  0.86832677 0.86441526 0.86673191 0.86191045]\n",
      "ROC Area Under the Curve: 0.8653944579755087\n"
     ]
    }
   ],
   "source": [
    "gbc2 = GradientBoostingClassifier(random_state=0).fit(d_standard_train.drop(columns = [\"Exited\"]),d_standard_train[\"Exited\"])\n",
    "gbc2_prediction = gbc2.predict(d_standard_test.drop(columns = [\"Exited\"]))\n",
    "gbc2_auc = cross_val_score(GradientBoostingClassifier(random_state=0), d_standard.drop(columns = [\"Exited\"]),d_standard[\"Exited\"], scoring ='roc_auc')\n",
    "\n",
    "print (\"Confusion Matrix: --------------------\")\n",
    "print(metrics.confusion_matrix(d_standard_test[\"Exited\"], gbc2_prediction))\n",
    "print(\"Mean accuracy: \" + str(gbc2.score(d_standard_train.drop(columns = [\"Exited\"]),d_standard_train[\"Exited\"])))\n",
    "print(\"The cross_val_score function returns a vector with the score for every partition in the cross validation: \")\n",
    "print(gbc2_auc)\n",
    "print (\"ROC Area Under the Curve: \" + str(gbc2_auc.mean()))"
   ]
  },
  {
   "cell_type": "markdown",
   "metadata": {},
   "source": [
    "**Accuracy** = 0.87325\n",
    "\n",
    "**AUC** = 0.8653\n",
    "\n",
    "Once again same result for the unbalanced data set either standarised or non-standardised"
   ]
  },
  {
   "cell_type": "markdown",
   "metadata": {},
   "source": [
    "### **3.3. GBC Balanced, Non-standarised**\n",
    "First let's divide the balanced data set 'bln' into train and test data:"
   ]
  },
  {
   "cell_type": "code",
   "execution_count": 84,
   "metadata": {},
   "outputs": [
    {
     "name": "stdout",
     "output_type": "stream",
     "text": [
      "3259\n",
      "737\n"
     ]
    }
   ],
   "source": [
    "bln_train = bln.sample(frac=0.8,random_state=200)\n",
    "bln_test = bln.drop(bln_train.index)\n",
    "print(len(bln_train))\n",
    "print(len(bln_test))"
   ]
  },
  {
   "cell_type": "code",
   "execution_count": 91,
   "metadata": {},
   "outputs": [
    {
     "name": "stdout",
     "output_type": "stream",
     "text": [
      "Confusion Matrix: --------------------\n",
      "[[255  69]\n",
      " [ 99 314]]\n",
      "Mean accuracy: 0.8158944461491255\n",
      "The cross_val_score function returns a vector with the score for every partition in the cross validation: \n",
      "[0.86530448 0.85562702 0.86256444 0.87204317 0.87198232]\n",
      "ROC Area Under the Curve: 0.8655042838631507\n"
     ]
    }
   ],
   "source": [
    "gbc3 = GradientBoostingClassifier(random_state=0).fit(bln_train.drop(columns = [\"Exited\"]),bln_train[\"Exited\"])\n",
    "gbc3_prediction = gbc3.predict(bln_test.drop(columns = [\"Exited\"]))\n",
    "gbc3_auc = cross_val_score(GradientBoostingClassifier(random_state=0), bln.drop(columns = [\"Exited\"]),bln[\"Exited\"], scoring ='roc_auc')\n",
    "\n",
    "print (\"Confusion Matrix: --------------------\")\n",
    "print(metrics.confusion_matrix(bln_test[\"Exited\"], gbc3_prediction))\n",
    "print(\"Mean accuracy: \" + str(gbc3.score(bln_train.drop(columns = [\"Exited\"]),bln_train[\"Exited\"])))\n",
    "print(\"The cross_val_score function returns a vector with the score for every partition in the cross validation: \")\n",
    "print(gbc3_auc)\n",
    "print (\"ROC Area Under the Curve: \" + str(gbc3_auc.mean()))"
   ]
  },
  {
   "cell_type": "markdown",
   "metadata": {},
   "source": [
    "**Accuracy** = 0.8158\n",
    "\n",
    "**AUC** = 0.8655"
   ]
  },
  {
   "cell_type": "markdown",
   "metadata": {},
   "source": [
    "### **3.4. GBC Balanced, Standarised**\n",
    "First let's divide the balanced standarised data set 'bln_standard' into train and test data:"
   ]
  },
  {
   "cell_type": "code",
   "execution_count": 86,
   "metadata": {},
   "outputs": [
    {
     "name": "stdout",
     "output_type": "stream",
     "text": [
      "3259\n",
      "737\n"
     ]
    }
   ],
   "source": [
    "bln_standard_train = bln_standard.sample(frac=0.8,random_state=200)\n",
    "bln_standard_test = bln_standard.drop(bln_standard_train.index)\n",
    "print(len(bln_standard_train))\n",
    "print(len(bln_standard_test))"
   ]
  },
  {
   "cell_type": "code",
   "execution_count": 92,
   "metadata": {},
   "outputs": [
    {
     "name": "stdout",
     "output_type": "stream",
     "text": [
      "Confusion Matrix: --------------------\n",
      "[[255  69]\n",
      " [ 99 314]]\n",
      "Mean accuracy: 0.8158944461491255\n",
      "The cross_val_score function returns a vector with the score for every partition in the cross validation: \n",
      "[0.86551525 0.85562702 0.86256444 0.87204317 0.87206684]\n",
      "ROC Area Under the Curve: 0.8655633415280762\n"
     ]
    }
   ],
   "source": [
    "gbc4 = GradientBoostingClassifier(random_state=0).fit(bln_standard_train.drop(columns = [\"Exited\"]),bln_standard_train[\"Exited\"])\n",
    "gbc4_prediction = gbc4.predict(bln_standard_test.drop(columns = [\"Exited\"]))\n",
    "gbc4_auc = cross_val_score(GradientBoostingClassifier(random_state=0), bln_standard.drop(columns = [\"Exited\"]),bln_standard[\"Exited\"], scoring ='roc_auc')\n",
    "\n",
    "print (\"Confusion Matrix: --------------------\")\n",
    "print(metrics.confusion_matrix(bln_standard_test[\"Exited\"], gbc4_prediction))\n",
    "print(\"Mean accuracy: \" + str(gbc4.score(bln_standard_train.drop(columns = [\"Exited\"]),bln_standard_train[\"Exited\"])))\n",
    "print(\"The cross_val_score function returns a vector with the score for every partition in the cross validation: \")\n",
    "print(gbc4_auc)\n",
    "print (\"ROC Area Under the Curve: \" + str(gbc4_auc.mean()))"
   ]
  },
  {
   "cell_type": "markdown",
   "metadata": {},
   "source": [
    "**Accuracy** = 0.8158\n",
    "\n",
    "**AUC** = 0.8655"
   ]
  },
  {
   "cell_type": "markdown",
   "metadata": {},
   "source": [
    "### **3.5. Conclusions of GradientBoostClassifier**\n",
    "\n",
    "The standarisation does not make a difference with the unbalanced set, and both the Accuracy and AUC are higher than with a balanced set. \n",
    "\n",
    "But using the balanced set, we observe a curious result, the AUC is higher than the accuracy. \n",
    "\n",
    "|                              | Accuracy | Roc_AUC |\n",
    "|------------------------------|----------|---------|\n",
    "| Unbalanced + Non-standardise | 0.87325  | 0.86539 |\n",
    "| Unbalanced + Standardise     | 0.87325  | 0.86539 |\n",
    "| Balanced + Non-standardise   | 0.8158   | 0.8655  |\n",
    "| Balanced + Standardise       | 0.8158   | 0.8655  |"
   ]
  },
  {
   "cell_type": "markdown",
   "metadata": {},
   "source": [
    "__________________________________________________________________________________________________________________________________________________\n",
    "# **COMPARISON BETWEEN THE MODELS**\n",
    "__________________________________________________________________________________________________________________________________________________"
   ]
  },
  {
   "cell_type": "markdown",
   "metadata": {},
   "source": [
    "The next tables have been calculated through the implementation of the code for each of the models. Calculation the confusion matrix, mean accuracy and roc_acu for each of the cases. The cases include all combinations for the data set between Balanced and Unbalanced, and Standarised and Non-standarised."
   ]
  },
  {
   "cell_type": "markdown",
   "metadata": {},
   "source": [
    "## **Logistic Regression**\n",
    " LogisticRegression            | Accuracy | Roc_AUC |\n",
    "|------------------------------|----------|---------|\n",
    "| Unbalanced + Non-standardise | 0.817    | 0.7634  |\n",
    "| Unbalanced + Standardise     | 0.817    | 0.7634  |\n",
    "| Balanced + Non-standardise   | 0.6838   | 0.7169  |\n",
    "| Balanced + Standardise       | 0.7191   | 0.7726  |\n"
   ]
  },
  {
   "cell_type": "markdown",
   "metadata": {},
   "source": [
    "## **SUPPORT VECTOR CLASSIFICATION**\n",
    "| SupportVectorClassification  | Accuracy | Roc_AUC |\n",
    "|------------------------------|----------|---------|\n",
    "| Unbalanced + Non-standardise | 0.82875  | 0.82487 |\n",
    "| Unbalanced + Standardise     | 0.82875  | 0.82487 |\n",
    "| Balanced + Non-standardise   | 0.56673  | 0.58225 |\n",
    "| Balanced + Standardise       | 0.7465   | 0.80689 |\n"
   ]
  },
  {
   "cell_type": "markdown",
   "metadata": {},
   "source": [
    "## **GRADIENT BOOST CLASSIFIER**\n",
    "| GradientBoostClassifier      | Accuracy | Roc_AUC |\n",
    "|------------------------------|----------|---------|\n",
    "| Unbalanced + Non-standardise | 0.87325  | 0.86539 |\n",
    "| Unbalanced + Standardise     | 0.87325  | 0.86539 |\n",
    "| Balanced + Non-standardise   | 0.8158   | 0.8655  |\n",
    "| Balanced + Standardise       | 0.8158   | 0.8655  |"
   ]
  },
  {
   "cell_type": "markdown",
   "metadata": {},
   "source": [
    "After a close examination of each of the cases and models, the best model to predict the if a customer will leave the ccompany is the GradientBoostClassifier. For wich I obtained better results for the Unbalanced + Standardise data set with an AUC of 0.86529 and an accuracy of 0.8732. "
   ]
  }
 ],
 "metadata": {
  "kernelspec": {
   "display_name": "Python 3.9.12 ('base')",
   "language": "python",
   "name": "python3"
  },
  "language_info": {
   "codemirror_mode": {
    "name": "ipython",
    "version": 3
   },
   "file_extension": ".py",
   "mimetype": "text/x-python",
   "name": "python",
   "nbconvert_exporter": "python",
   "pygments_lexer": "ipython3",
   "version": "3.9.12"
  },
  "vscode": {
   "interpreter": {
    "hash": "dc3f44e010abd26ab046284901ce9509711ac3cc1e8fdd0965c6a2a3e20ab15a"
   }
  }
 },
 "nbformat": 4,
 "nbformat_minor": 4
}
